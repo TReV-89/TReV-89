{
  "nbformat": 4,
  "nbformat_minor": 0,
  "metadata": {
    "colab": {
      "provenance": [],
      "mount_file_id": "1XyQ7AegqsfhRjKh-Pz-pQ_CoT5tm4GbY",
      "authorship_tag": "ABX9TyOzsQBGYfqqtJ1Hjd6sSWRd",
      "include_colab_link": true
    },
    "kernelspec": {
      "name": "python3",
      "display_name": "Python 3"
    },
    "language_info": {
      "name": "python"
    }
  },
  "cells": [
    {
      "cell_type": "markdown",
      "metadata": {
        "id": "view-in-github",
        "colab_type": "text"
      },
      "source": [
        "<a href=\"https://colab.research.google.com/github/TReV-89/TReV-89/blob/main/TEST_LANGUAGEID.ipynb\" target=\"_parent\"><img src=\"https://colab.research.google.com/assets/colab-badge.svg\" alt=\"Open In Colab\"/></a>"
      ]
    },
    {
      "cell_type": "code",
      "execution_count": 2,
      "metadata": {
        "id": "9MrDU_wC5Ftf",
        "outputId": "f938f6c6-f0c2-4f95-c4df-2911bb831704",
        "colab": {
          "base_uri": "https://localhost:8080/"
        }
      },
      "outputs": [
        {
          "output_type": "stream",
          "name": "stdout",
          "text": [
            "Drive already mounted at /content/drive; to attempt to forcibly remount, call drive.mount(\"/content/drive\", force_remount=True).\n"
          ]
        }
      ],
      "source": [
        "from google.colab import drive\n",
        "import joblib\n",
        "drive.mount('/content/drive')\n",
        "\n"
      ]
    },
    {
      "cell_type": "code",
      "source": [
        "pipeline_BNB = joblib.load('/content/drive/MyDrive/Colab Notebooks/pipeline_BernoulliNB.pkl')\n",
        "pipeline_CNB =joblib.load('/content/drive/MyDrive/Colab Notebooks/pipeline_ComplementNB.pkl')\n",
        "pipeline_MNB =joblib.load('/content/drive/MyDrive/Colab Notebooks/pipeline_MultinomialNB.pkl')"
      ],
      "metadata": {
        "id": "7e31hb_xdIJH"
      },
      "execution_count": 5,
      "outputs": []
    },
    {
      "cell_type": "code",
      "source": [
        "def main():\n",
        "    model = input(\"Which model do you want to test:(Bernoulli, Multinomial or Complement)\\n\")\n",
        "    if model == \"Bernoulli\":\n",
        "        sample_text = input(\"Please input sample text\\n\")\n",
        "        samples = [sample_text]\n",
        "        prediction = pipeline_BNB.predict(samples)\n",
        "    elif model == \"Multinomial\":\n",
        "        sample_text = input(\"Please input sample text\\n\")\n",
        "        samples = [sample_text]\n",
        "        prediction = pipeline_CNB.predict(samples)\n",
        "    else:\n",
        "        sample_text = input(\"Please input sample text\\n\")\n",
        "        samples = [sample_text]\n",
        "        prediction = pipeline_MNB.predict(samples)\n",
        "\n",
        "    print(f\"Text: '{sample_text}' => Predicted Language: {prediction}\")\n",
        "\n",
        "if __name__ == \"__main__\":\n",
        "    respond = \"yes\"\n",
        "    while respond == \"yes\":\n",
        "        main()\n",
        "        respond = input(\"Do you wish to continue dectecting languages\\n\")\n",
        ""
      ],
      "metadata": {
        "id": "0mW1sl-8ATkp",
        "colab": {
          "base_uri": "https://localhost:8080/"
        },
        "outputId": "11e4c1e8-3434-4d99-ccef-71ef083879fb"
      },
      "execution_count": 9,
      "outputs": [
        {
          "name": "stdout",
          "output_type": "stream",
          "text": [
            "Which model do you want to test:(Bernoulli, Multinomial or Complement)\n",
            "Bernoulli\n",
            "Please input sample text\n",
            "Njagala\n",
            "Text: 'Njagala' => Predicted Language: ['lug']\n",
            "Do you wish to continue dectecting languages\n",
            "no\n"
          ]
        }
      ]
    }
  ]
}