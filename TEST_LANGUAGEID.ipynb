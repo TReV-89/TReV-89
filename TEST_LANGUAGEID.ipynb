{
  "nbformat": 4,
  "nbformat_minor": 0,
  "metadata": {
    "colab": {
      "provenance": [],
      "mount_file_id": "1f2bX8_mLcYkfdxVNjAAxe_YJwra8Pz5n",
      "authorship_tag": "ABX9TyPzrLCWf2Y25p/3wxpcE+/p",
      "include_colab_link": true
    },
    "kernelspec": {
      "name": "python3",
      "display_name": "Python 3"
    },
    "language_info": {
      "name": "python"
    }
  },
  "cells": [
    {
      "cell_type": "markdown",
      "metadata": {
        "id": "view-in-github",
        "colab_type": "text"
      },
      "source": [
        "<a href=\"https://colab.research.google.com/github/TReV-89/TReV-89/blob/main/TEST_LANGUAGEID.ipynb\" target=\"_parent\"><img src=\"https://colab.research.google.com/assets/colab-badge.svg\" alt=\"Open In Colab\"/></a>"
      ]
    },
    {
      "cell_type": "code",
      "execution_count": null,
      "metadata": {
        "id": "-7l9LyPLMUFH"
      },
      "outputs": [],
      "source": [
        "from google.colab import drive\n",
        "drive.mount('/content/drive')\n",
        "import sys\n",
        "sys.path.insert(1,'/content/drive/MyDrive')\n",
        "from languageid import pipeline_ComplementNB, pipeline_BernoulliNB, pipeline_MultinomialNB"
      ]
    },
    {
      "cell_type": "code",
      "source": [
        "def main():\n",
        "    model = input(\"Which model do you want to test:(Bernoulli, Multinomial or Complement)\\n\")\n",
        "    if model == \"Bernoulli\":\n",
        "        sample_text = input(\"Please input sample text\\n\")\n",
        "        new_samples = [sample_text]\n",
        "        prediction = pipeline_BernoulliNB.predict(new_samples)\n",
        "    elif model == \"Multinomial\":\n",
        "        sample_text = input(\"Please input sample text\\n\")\n",
        "        new_samples = [sample_text]\n",
        "        prediction = pipeline_MultinomialNB.predict(new_samples)\n",
        "    else:\n",
        "        sample_text = input(\"Please input sample text\\n\")\n",
        "        new_samples = [sample_text]\n",
        "        prediction = pipeline_ComplementNB.predict(new_samples)\n",
        "\n",
        "    print(f\"Text: '{sample_text}' => Predicted Language: {prediction}\")\n",
        "\n",
        "if __name__ == \"__main__\":\n",
        "    respond = \"yes\"\n",
        "    while respond == \"yes\":\n",
        "        main()\n",
        "        response = input(\"Do you wish to continue dectecting languages\\n\")"
      ],
      "metadata": {
        "id": "STwUo44gNmNa"
      },
      "execution_count": null,
      "outputs": []
    }
  ]
}