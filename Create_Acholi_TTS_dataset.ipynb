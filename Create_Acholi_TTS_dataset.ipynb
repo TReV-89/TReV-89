{
  "nbformat": 4,
  "nbformat_minor": 0,
  "metadata": {
    "colab": {
      "provenance": [],
      "include_colab_link": true
    },
    "kernelspec": {
      "name": "python3",
      "display_name": "Python 3"
    },
    "language_info": {
      "name": "python"
    },
    "widgets": {
      "application/vnd.jupyter.widget-state+json": {
        "6a0fe8f07fb044c0a129238beb66ca48": {
          "model_module": "@jupyter-widgets/controls",
          "model_name": "HBoxModel",
          "model_module_version": "1.5.0",
          "state": {
            "_dom_classes": [],
            "_model_module": "@jupyter-widgets/controls",
            "_model_module_version": "1.5.0",
            "_model_name": "HBoxModel",
            "_view_count": null,
            "_view_module": "@jupyter-widgets/controls",
            "_view_module_version": "1.5.0",
            "_view_name": "HBoxView",
            "box_style": "",
            "children": [
              "IPY_MODEL_b7886628799245a283bde391ab8aa8cc",
              "IPY_MODEL_84c11d0035034a4fa90c8131b48ad7c0",
              "IPY_MODEL_7f6dbacdd8ef453386abf64f756e56be"
            ],
            "layout": "IPY_MODEL_12d2f4b352924ebfa5c520822ec11fb2"
          }
        },
        "b7886628799245a283bde391ab8aa8cc": {
          "model_module": "@jupyter-widgets/controls",
          "model_name": "HTMLModel",
          "model_module_version": "1.5.0",
          "state": {
            "_dom_classes": [],
            "_model_module": "@jupyter-widgets/controls",
            "_model_module_version": "1.5.0",
            "_model_name": "HTMLModel",
            "_view_count": null,
            "_view_module": "@jupyter-widgets/controls",
            "_view_module_version": "1.5.0",
            "_view_name": "HTMLView",
            "description": "",
            "description_tooltip": null,
            "layout": "IPY_MODEL_bd2c6c63d8034a5090d7544d6aff1026",
            "placeholder": "​",
            "style": "IPY_MODEL_ef57e42022f54657a34e198f1e9f0a3b",
            "value": "100%"
          }
        },
        "84c11d0035034a4fa90c8131b48ad7c0": {
          "model_module": "@jupyter-widgets/controls",
          "model_name": "FloatProgressModel",
          "model_module_version": "1.5.0",
          "state": {
            "_dom_classes": [],
            "_model_module": "@jupyter-widgets/controls",
            "_model_module_version": "1.5.0",
            "_model_name": "FloatProgressModel",
            "_view_count": null,
            "_view_module": "@jupyter-widgets/controls",
            "_view_module_version": "1.5.0",
            "_view_name": "ProgressView",
            "bar_style": "success",
            "description": "",
            "description_tooltip": null,
            "layout": "IPY_MODEL_7272c0bbb9d54693b33671cd3f0a95ac",
            "max": 5000,
            "min": 0,
            "orientation": "horizontal",
            "style": "IPY_MODEL_efcb54dd3dd6463f8bdc4f2b6be9272e",
            "value": 5000
          }
        },
        "7f6dbacdd8ef453386abf64f756e56be": {
          "model_module": "@jupyter-widgets/controls",
          "model_name": "HTMLModel",
          "model_module_version": "1.5.0",
          "state": {
            "_dom_classes": [],
            "_model_module": "@jupyter-widgets/controls",
            "_model_module_version": "1.5.0",
            "_model_name": "HTMLModel",
            "_view_count": null,
            "_view_module": "@jupyter-widgets/controls",
            "_view_module_version": "1.5.0",
            "_view_name": "HTMLView",
            "description": "",
            "description_tooltip": null,
            "layout": "IPY_MODEL_be03fdb4d9844784a34a2f29a7284240",
            "placeholder": "​",
            "style": "IPY_MODEL_7bbcb67a24a94e3b8a92faea1ee2d6bf",
            "value": " 5000/5000 [00:01&lt;00:00, 3158.36it/s]"
          }
        },
        "12d2f4b352924ebfa5c520822ec11fb2": {
          "model_module": "@jupyter-widgets/base",
          "model_name": "LayoutModel",
          "model_module_version": "1.2.0",
          "state": {
            "_model_module": "@jupyter-widgets/base",
            "_model_module_version": "1.2.0",
            "_model_name": "LayoutModel",
            "_view_count": null,
            "_view_module": "@jupyter-widgets/base",
            "_view_module_version": "1.2.0",
            "_view_name": "LayoutView",
            "align_content": null,
            "align_items": null,
            "align_self": null,
            "border": null,
            "bottom": null,
            "display": null,
            "flex": null,
            "flex_flow": null,
            "grid_area": null,
            "grid_auto_columns": null,
            "grid_auto_flow": null,
            "grid_auto_rows": null,
            "grid_column": null,
            "grid_gap": null,
            "grid_row": null,
            "grid_template_areas": null,
            "grid_template_columns": null,
            "grid_template_rows": null,
            "height": null,
            "justify_content": null,
            "justify_items": null,
            "left": null,
            "margin": null,
            "max_height": null,
            "max_width": null,
            "min_height": null,
            "min_width": null,
            "object_fit": null,
            "object_position": null,
            "order": null,
            "overflow": null,
            "overflow_x": null,
            "overflow_y": null,
            "padding": null,
            "right": null,
            "top": null,
            "visibility": null,
            "width": null
          }
        },
        "bd2c6c63d8034a5090d7544d6aff1026": {
          "model_module": "@jupyter-widgets/base",
          "model_name": "LayoutModel",
          "model_module_version": "1.2.0",
          "state": {
            "_model_module": "@jupyter-widgets/base",
            "_model_module_version": "1.2.0",
            "_model_name": "LayoutModel",
            "_view_count": null,
            "_view_module": "@jupyter-widgets/base",
            "_view_module_version": "1.2.0",
            "_view_name": "LayoutView",
            "align_content": null,
            "align_items": null,
            "align_self": null,
            "border": null,
            "bottom": null,
            "display": null,
            "flex": null,
            "flex_flow": null,
            "grid_area": null,
            "grid_auto_columns": null,
            "grid_auto_flow": null,
            "grid_auto_rows": null,
            "grid_column": null,
            "grid_gap": null,
            "grid_row": null,
            "grid_template_areas": null,
            "grid_template_columns": null,
            "grid_template_rows": null,
            "height": null,
            "justify_content": null,
            "justify_items": null,
            "left": null,
            "margin": null,
            "max_height": null,
            "max_width": null,
            "min_height": null,
            "min_width": null,
            "object_fit": null,
            "object_position": null,
            "order": null,
            "overflow": null,
            "overflow_x": null,
            "overflow_y": null,
            "padding": null,
            "right": null,
            "top": null,
            "visibility": null,
            "width": null
          }
        },
        "ef57e42022f54657a34e198f1e9f0a3b": {
          "model_module": "@jupyter-widgets/controls",
          "model_name": "DescriptionStyleModel",
          "model_module_version": "1.5.0",
          "state": {
            "_model_module": "@jupyter-widgets/controls",
            "_model_module_version": "1.5.0",
            "_model_name": "DescriptionStyleModel",
            "_view_count": null,
            "_view_module": "@jupyter-widgets/base",
            "_view_module_version": "1.2.0",
            "_view_name": "StyleView",
            "description_width": ""
          }
        },
        "7272c0bbb9d54693b33671cd3f0a95ac": {
          "model_module": "@jupyter-widgets/base",
          "model_name": "LayoutModel",
          "model_module_version": "1.2.0",
          "state": {
            "_model_module": "@jupyter-widgets/base",
            "_model_module_version": "1.2.0",
            "_model_name": "LayoutModel",
            "_view_count": null,
            "_view_module": "@jupyter-widgets/base",
            "_view_module_version": "1.2.0",
            "_view_name": "LayoutView",
            "align_content": null,
            "align_items": null,
            "align_self": null,
            "border": null,
            "bottom": null,
            "display": null,
            "flex": null,
            "flex_flow": null,
            "grid_area": null,
            "grid_auto_columns": null,
            "grid_auto_flow": null,
            "grid_auto_rows": null,
            "grid_column": null,
            "grid_gap": null,
            "grid_row": null,
            "grid_template_areas": null,
            "grid_template_columns": null,
            "grid_template_rows": null,
            "height": null,
            "justify_content": null,
            "justify_items": null,
            "left": null,
            "margin": null,
            "max_height": null,
            "max_width": null,
            "min_height": null,
            "min_width": null,
            "object_fit": null,
            "object_position": null,
            "order": null,
            "overflow": null,
            "overflow_x": null,
            "overflow_y": null,
            "padding": null,
            "right": null,
            "top": null,
            "visibility": null,
            "width": null
          }
        },
        "efcb54dd3dd6463f8bdc4f2b6be9272e": {
          "model_module": "@jupyter-widgets/controls",
          "model_name": "ProgressStyleModel",
          "model_module_version": "1.5.0",
          "state": {
            "_model_module": "@jupyter-widgets/controls",
            "_model_module_version": "1.5.0",
            "_model_name": "ProgressStyleModel",
            "_view_count": null,
            "_view_module": "@jupyter-widgets/base",
            "_view_module_version": "1.2.0",
            "_view_name": "StyleView",
            "bar_color": null,
            "description_width": ""
          }
        },
        "be03fdb4d9844784a34a2f29a7284240": {
          "model_module": "@jupyter-widgets/base",
          "model_name": "LayoutModel",
          "model_module_version": "1.2.0",
          "state": {
            "_model_module": "@jupyter-widgets/base",
            "_model_module_version": "1.2.0",
            "_model_name": "LayoutModel",
            "_view_count": null,
            "_view_module": "@jupyter-widgets/base",
            "_view_module_version": "1.2.0",
            "_view_name": "LayoutView",
            "align_content": null,
            "align_items": null,
            "align_self": null,
            "border": null,
            "bottom": null,
            "display": null,
            "flex": null,
            "flex_flow": null,
            "grid_area": null,
            "grid_auto_columns": null,
            "grid_auto_flow": null,
            "grid_auto_rows": null,
            "grid_column": null,
            "grid_gap": null,
            "grid_row": null,
            "grid_template_areas": null,
            "grid_template_columns": null,
            "grid_template_rows": null,
            "height": null,
            "justify_content": null,
            "justify_items": null,
            "left": null,
            "margin": null,
            "max_height": null,
            "max_width": null,
            "min_height": null,
            "min_width": null,
            "object_fit": null,
            "object_position": null,
            "order": null,
            "overflow": null,
            "overflow_x": null,
            "overflow_y": null,
            "padding": null,
            "right": null,
            "top": null,
            "visibility": null,
            "width": null
          }
        },
        "7bbcb67a24a94e3b8a92faea1ee2d6bf": {
          "model_module": "@jupyter-widgets/controls",
          "model_name": "DescriptionStyleModel",
          "model_module_version": "1.5.0",
          "state": {
            "_model_module": "@jupyter-widgets/controls",
            "_model_module_version": "1.5.0",
            "_model_name": "DescriptionStyleModel",
            "_view_count": null,
            "_view_module": "@jupyter-widgets/base",
            "_view_module_version": "1.2.0",
            "_view_name": "StyleView",
            "description_width": ""
          }
        }
      }
    }
  },
  "cells": [
    {
      "cell_type": "markdown",
      "metadata": {
        "id": "view-in-github",
        "colab_type": "text"
      },
      "source": [
        "<a href=\"https://colab.research.google.com/github/TReV-89/TReV-89/blob/main/Create_Acholi_TTS_dataset.ipynb\" target=\"_parent\"><img src=\"https://colab.research.google.com/assets/colab-badge.svg\" alt=\"Open In Colab\"/></a>"
      ]
    },
    {
      "cell_type": "markdown",
      "source": [
        "# Acholi TTS Dataset preparation\n",
        "The purpose of this notebook is to create the TTS dataset by aligning the audio files and corresponding sentences.\n",
        "\n",
        "This notebook is specifically for the Acholi audio files.\n",
        "\n",
        "If necessary, this will be generalized to handle multiple languages."
      ],
      "metadata": {
        "id": "bQr2TF4YPY-g"
      }
    },
    {
      "cell_type": "code",
      "execution_count": null,
      "metadata": {
        "colab": {
          "base_uri": "https://localhost:8080/"
        },
        "id": "T_3-wViqPSK_",
        "outputId": "ef3a9e19-9e86-46ff-94b8-9a3502a9be14"
      },
      "outputs": [
        {
          "output_type": "stream",
          "name": "stdout",
          "text": [
            "Requirement already satisfied: webrtcvad in /usr/local/lib/python3.10/dist-packages (2.0.10)\n",
            "Requirement already satisfied: boto3 in /usr/local/lib/python3.10/dist-packages (1.28.26)\n",
            "Requirement already satisfied: botocore<1.32.0,>=1.31.26 in /usr/local/lib/python3.10/dist-packages (from boto3) (1.31.26)\n",
            "Requirement already satisfied: jmespath<2.0.0,>=0.7.1 in /usr/local/lib/python3.10/dist-packages (from boto3) (1.0.1)\n",
            "Requirement already satisfied: s3transfer<0.7.0,>=0.6.0 in /usr/local/lib/python3.10/dist-packages (from boto3) (0.6.1)\n",
            "Requirement already satisfied: python-dateutil<3.0.0,>=2.1 in /usr/local/lib/python3.10/dist-packages (from botocore<1.32.0,>=1.31.26->boto3) (2.8.2)\n",
            "Requirement already satisfied: urllib3<1.27,>=1.25.4 in /usr/local/lib/python3.10/dist-packages (from botocore<1.32.0,>=1.31.26->boto3) (1.26.16)\n",
            "Requirement already satisfied: six>=1.5 in /usr/local/lib/python3.10/dist-packages (from python-dateutil<3.0.0,>=2.1->botocore<1.32.0,>=1.31.26->boto3) (1.16.0)\n"
          ]
        }
      ],
      "source": [
        "!pip install webrtcvad\n",
        "!pip install boto3"
      ]
    },
    {
      "cell_type": "code",
      "source": [
        "import librosa\n",
        "import soundfile\n",
        "import numpy as np\n",
        "import struct\n",
        "import webrtcvad\n",
        "import os\n",
        "import glob\n",
        "import warnings\n",
        "from tqdm.notebook import tqdm\n",
        "from IPython.display import Audio\n",
        "from google.colab import drive\n",
        "drive.mount('/content/drive')"
      ],
      "metadata": {
        "colab": {
          "base_uri": "https://localhost:8080/"
        },
        "id": "3N-3oepKQYag",
        "outputId": "f86a77dc-7b0d-4895-c57f-afa30b8d5315"
      },
      "execution_count": 15,
      "outputs": [
        {
          "output_type": "stream",
          "name": "stdout",
          "text": [
            "Drive already mounted at /content/drive; to attempt to forcibly remount, call drive.mount(\"/content/drive\", force_remount=True).\n"
          ]
        }
      ]
    },
    {
      "cell_type": "code",
      "source": [
        "BASE_DIR = '/content/drive/Shareddrives/Sunbird AI/Projects/African Language Technology/Data'\n",
        "RAW_DATA_DIR = f'{BASE_DIR}/Acholi Voice Over/Acholi Voiced Over Phrases-Polin Owiny'\n",
        "PROCESSED_DATA_DIR = f'{BASE_DIR}/acholi_processed'"
      ],
      "metadata": {
        "id": "fiz9S6gUQwVw"
      },
      "execution_count": 16,
      "outputs": []
    },
    {
      "cell_type": "code",
      "source": [
        "# Get .wav files from google drive folder\n",
        "def get_wav_files():\n",
        "  wav_files = glob.glob(RAW_DATA_DIR + '/*.wav')\n",
        "  wav_files = [os.path.basename(f) for f in wav_files]\n",
        "  return wav_files\n",
        "\n",
        "wav_files = get_wav_files()\n",
        "num_audio_files = len(wav_files)\n",
        "print(f\"Number of audio files: {num_audio_files}\")"
      ],
      "metadata": {
        "colab": {
          "base_uri": "https://localhost:8080/"
        },
        "id": "_EIeP7GCRG53",
        "outputId": "7b6ce371-3fe6-46da-8335-4c4adfabd7d0"
      },
      "execution_count": 17,
      "outputs": [
        {
          "output_type": "stream",
          "name": "stdout",
          "text": [
            "Number of audio files: 0\n"
          ]
        }
      ]
    },
    {
      "cell_type": "code",
      "source": [
        "wav_files[0:5]"
      ],
      "metadata": {
        "colab": {
          "base_uri": "https://localhost:8080/"
        },
        "id": "KCxx-xBLRrZ_",
        "outputId": "5c3740b9-e00e-48c5-dda2-eef9d1333030"
      },
      "execution_count": null,
      "outputs": [
        {
          "output_type": "execute_result",
          "data": {
            "text/plain": [
              "['Acholi 4007.wav',\n",
              " 'Acholi 4008.wav',\n",
              " 'Acholi 4009.wav',\n",
              " 'Acholi 4010.wav',\n",
              " 'Acholi 4011.wav']"
            ]
          },
          "metadata": {},
          "execution_count": 5
        }
      ]
    },
    {
      "cell_type": "markdown",
      "source": [
        "## Fix filename errors"
      ],
      "metadata": {
        "id": "i5jCg5O6YWbz"
      }
    },
    {
      "cell_type": "code",
      "source": [
        "# Check filenames\n",
        "def has_expected_filename(filename: str):\n",
        "  split = filename.strip().split(\" \")\n",
        "  if len(split) != 2:\n",
        "    return False, f\"Split returned {len(split)} values instead of 2\", 1\n",
        "\n",
        "  lang, num = split\n",
        "  if lang != 'Acholi':\n",
        "    return False, f\"Wrong language {lang}\", 2\n",
        "\n",
        "  if filename != f\"{lang} {num}\":\n",
        "    return False, f\"Filename is not expected. Got {filename}, expected '{lang} {num}'\", 3\n",
        "  return True, \"All good\", 0\n",
        "\n",
        "\n",
        "def get_bad_files():\n",
        "  bad_files = []\n",
        "  bad_files_by_err = [[], [], [], []]\n",
        "  for filename in wav_files:\n",
        "    is_good, reason, code = has_expected_filename(filename)\n",
        "    if not is_good:\n",
        "      bad_files.append((filename, reason, code))\n",
        "      bad_files_by_err[code].append(filename)\n",
        "  return bad_files, bad_files_by_err\n",
        "\n",
        "bad_files, bad_files_by_err = get_bad_files()\n",
        "print(len(bad_files))"
      ],
      "metadata": {
        "colab": {
          "base_uri": "https://localhost:8080/"
        },
        "id": "a8oyCiFpR3uY",
        "outputId": "21ffedd7-a995-4eea-fc9a-e8f5148cfac8"
      },
      "execution_count": null,
      "outputs": [
        {
          "output_type": "stream",
          "name": "stdout",
          "text": [
            "0\n"
          ]
        }
      ]
    },
    {
      "cell_type": "code",
      "source": [
        "bad_files"
      ],
      "metadata": {
        "colab": {
          "base_uri": "https://localhost:8080/"
        },
        "id": "b6JUWvgGWdlg",
        "outputId": "ea55b46a-9c03-4f88-f404-6adc6a270cae"
      },
      "execution_count": null,
      "outputs": [
        {
          "output_type": "execute_result",
          "data": {
            "text/plain": [
              "[]"
            ]
          },
          "metadata": {},
          "execution_count": 7
        }
      ]
    },
    {
      "cell_type": "code",
      "source": [
        "# rename bad files\n",
        "src = f\"{RAW_DATA_DIR}/Acholi 941 2.wav\"\n",
        "dst = f\"{RAW_DATA_DIR}/Acholi 9412.wav\"\n",
        "os.rename(src, dst)"
      ],
      "metadata": {
        "id": "rvMWODYeWndZ",
        "colab": {
          "base_uri": "https://localhost:8080/",
          "height": 250
        },
        "outputId": "ca1f2fd5-4130-423f-8bd3-8c3ef0b49034"
      },
      "execution_count": null,
      "outputs": [
        {
          "output_type": "error",
          "ename": "FileNotFoundError",
          "evalue": "ignored",
          "traceback": [
            "\u001b[0;31m---------------------------------------------------------------------------\u001b[0m",
            "\u001b[0;31mFileNotFoundError\u001b[0m                         Traceback (most recent call last)",
            "\u001b[0;32m<ipython-input-8-7e2e461aa84d>\u001b[0m in \u001b[0;36m<cell line: 4>\u001b[0;34m()\u001b[0m\n\u001b[1;32m      2\u001b[0m \u001b[0msrc\u001b[0m \u001b[0;34m=\u001b[0m \u001b[0;34mf\"{RAW_DATA_DIR}/Acholi 941 2.wav\"\u001b[0m\u001b[0;34m\u001b[0m\u001b[0;34m\u001b[0m\u001b[0m\n\u001b[1;32m      3\u001b[0m \u001b[0mdst\u001b[0m \u001b[0;34m=\u001b[0m \u001b[0;34mf\"{RAW_DATA_DIR}/Acholi 9412.wav\"\u001b[0m\u001b[0;34m\u001b[0m\u001b[0;34m\u001b[0m\u001b[0m\n\u001b[0;32m----> 4\u001b[0;31m \u001b[0mos\u001b[0m\u001b[0;34m.\u001b[0m\u001b[0mrename\u001b[0m\u001b[0;34m(\u001b[0m\u001b[0msrc\u001b[0m\u001b[0;34m,\u001b[0m \u001b[0mdst\u001b[0m\u001b[0;34m)\u001b[0m\u001b[0;34m\u001b[0m\u001b[0;34m\u001b[0m\u001b[0m\n\u001b[0m",
            "\u001b[0;31mFileNotFoundError\u001b[0m: [Errno 2] No such file or directory: '/content/drive/Shareddrives/Sunbird AI/Projects/African Language Technology/Data/Acholi Voice Over/Acholi Voiced Over Phrases-Polin Owiny/Acholi 941 2.wav' -> '/content/drive/Shareddrives/Sunbird AI/Projects/African Language Technology/Data/Acholi Voice Over/Acholi Voiced Over Phrases-Polin Owiny/Acholi 9412.wav'"
          ]
        }
      ]
    },
    {
      "cell_type": "code",
      "source": [
        "src = f\"{RAW_DATA_DIR}/Acholi 1996 .wav\"\n",
        "dst = f\"{RAW_DATA_DIR}/Acholi 1996.wav\"\n",
        "os.rename(src, dst)"
      ],
      "metadata": {
        "id": "ceXm5qpQXqbf",
        "colab": {
          "base_uri": "https://localhost:8080/",
          "height": 250
        },
        "outputId": "828d3198-bee4-480f-8493-6007bff814f3"
      },
      "execution_count": null,
      "outputs": [
        {
          "output_type": "error",
          "ename": "FileNotFoundError",
          "evalue": "ignored",
          "traceback": [
            "\u001b[0;31m---------------------------------------------------------------------------\u001b[0m",
            "\u001b[0;31mFileNotFoundError\u001b[0m                         Traceback (most recent call last)",
            "\u001b[0;32m<ipython-input-9-a8a6048a61d6>\u001b[0m in \u001b[0;36m<cell line: 3>\u001b[0;34m()\u001b[0m\n\u001b[1;32m      1\u001b[0m \u001b[0msrc\u001b[0m \u001b[0;34m=\u001b[0m \u001b[0;34mf\"{RAW_DATA_DIR}/Acholi 1996 .wav\"\u001b[0m\u001b[0;34m\u001b[0m\u001b[0;34m\u001b[0m\u001b[0m\n\u001b[1;32m      2\u001b[0m \u001b[0mdst\u001b[0m \u001b[0;34m=\u001b[0m \u001b[0;34mf\"{RAW_DATA_DIR}/Acholi 1996.wav\"\u001b[0m\u001b[0;34m\u001b[0m\u001b[0;34m\u001b[0m\u001b[0m\n\u001b[0;32m----> 3\u001b[0;31m \u001b[0mos\u001b[0m\u001b[0;34m.\u001b[0m\u001b[0mrename\u001b[0m\u001b[0;34m(\u001b[0m\u001b[0msrc\u001b[0m\u001b[0;34m,\u001b[0m \u001b[0mdst\u001b[0m\u001b[0;34m)\u001b[0m\u001b[0;34m\u001b[0m\u001b[0;34m\u001b[0m\u001b[0m\n\u001b[0m",
            "\u001b[0;31mFileNotFoundError\u001b[0m: [Errno 2] No such file or directory: '/content/drive/Shareddrives/Sunbird AI/Projects/African Language Technology/Data/Acholi Voice Over/Acholi Voiced Over Phrases-Polin Owiny/Acholi 1996 .wav' -> '/content/drive/Shareddrives/Sunbird AI/Projects/African Language Technology/Data/Acholi Voice Over/Acholi Voiced Over Phrases-Polin Owiny/Acholi 1996.wav'"
          ]
        }
      ]
    },
    {
      "cell_type": "code",
      "source": [
        "wav_files = get_wav_files()"
      ],
      "metadata": {
        "id": "v08zLbvWYBVR"
      },
      "execution_count": null,
      "outputs": []
    },
    {
      "cell_type": "code",
      "source": [
        "# No more filename errors\n",
        "bad_files, bad_files_by_err = get_bad_files()\n",
        "print(len(bad_files))"
      ],
      "metadata": {
        "colab": {
          "base_uri": "https://localhost:8080/"
        },
        "id": "xy8rpXHQYFDx",
        "outputId": "428ef969-e701-49af-bd44-12bc20796b79"
      },
      "execution_count": null,
      "outputs": [
        {
          "output_type": "stream",
          "name": "stdout",
          "text": [
            "0\n"
          ]
        }
      ]
    },
    {
      "cell_type": "markdown",
      "source": [
        "## Voice Activity Detection"
      ],
      "metadata": {
        "id": "Z7sX4QoHYRtN"
      }
    },
    {
      "cell_type": "code",
      "source": [
        "class Frame(object):\n",
        "  def __init__(self, bytes, timestamp, duration):\n",
        "    self.bytes = bytes\n",
        "    self.timestamp = timestamp\n",
        "    self.duration = duration\n",
        "\n",
        "def frame_generator(frame_duration_ms, audio, sample_rate):\n",
        "  \"\"\"Splits PCM audio into frames.\"\"\"\n",
        "  n = int(sample_rate * (frame_duration_ms / 1000.0) * 2)\n",
        "  offset = 0\n",
        "  timestamp = 0.0\n",
        "  duration = (float(n) / sample_rate) / 2.0\n",
        "  while offset + n < len(audio):\n",
        "    yield Frame(audio[offset:offset + n], timestamp, duration)\n",
        "    timestamp += duration\n",
        "    offset += n\n",
        "\n",
        "def waveform_to_pcm_bytes(wave):\n",
        "  \"\"\"Convert waveform from numpy array to PCM byte sequence.\"\"\"\n",
        "  x = np.int32(wave * 0x7fff)\n",
        "  x = np.clip(x, -32768, 32767).astype(np.short)\n",
        "  pcm = struct.pack(f'<{len(x)}h', *list(x))\n",
        "  return pcm\n",
        "\n",
        "def trim_speech(input_wav_path, output_wav_path, output_sample_rate = 22050):\n",
        "  \"\"\"Remove non-speech from the beginning and end of wav audio.\"\"\"\n",
        "\n",
        "  # Read in the original file at 32kHz sample rate\n",
        "  wave, rate = librosa.load(input_wav_path, sr=32000)\n",
        "\n",
        "  # Split waveform into 30ms frames, and find which contain speech\n",
        "  vad = webrtcvad.Vad(3)\n",
        "  pcm = waveform_to_pcm_bytes(wave)\n",
        "  frames = frame_generator(30, pcm, rate)\n",
        "  is_speech = [vad.is_speech(frame.bytes, rate) for frame in frames]\n",
        "\n",
        "  # Find the first and last frames with speech activity\n",
        "  speech_frames = np.where(is_speech)[0]\n",
        "  start_frame = np.min(speech_frames)\n",
        "  end_frame = np.max(speech_frames)\n",
        "\n",
        "  # Trim the waveform correspondingly\n",
        "  start_index = int(start_frame * 0.03 * rate)\n",
        "  end_index = min(int(end_frame * 0.03 * rate), len(wave))\n",
        "  trimmed_wave = wave[start_index:end_index]\n",
        "\n",
        "  if len(trimmed_wave) < 0.5 * rate:\n",
        "    warnings.warn(f'The output audio being saved to {output_wav_path} is less than 0.5 seconds. There may be an alignment or recording error.')\n",
        "\n",
        "  # Resample to desired output rate.\n",
        "  trimmed_wave = librosa.resample(trimmed_wave, orig_sr=rate, target_sr=output_sample_rate)\n",
        "  soundfile.write(output_wav_path, trimmed_wave, output_sample_rate)\n"
      ],
      "metadata": {
        "id": "zmXIytFeYPLX"
      },
      "execution_count": null,
      "outputs": []
    },
    {
      "cell_type": "code",
      "source": [
        "# Carry out the trimming and resampling on all files, with the option to skip any which were already processed.\n",
        "\n",
        "skip_existing_output_files = True\n",
        "\n",
        "for f in tqdm(wav_files):\n",
        "  input_path = os.path.join(RAW_DATA_DIR, f)\n",
        "  output_path = os.path.join(PROCESSED_DATA_DIR, f)\n",
        "  if os.path.exists(output_path) and skip_existing_output_files:\n",
        "    continue\n",
        "  else:\n",
        "    trim_speech(input_path, output_path)\n",
        "\n",
        "# Check we converted everything\n",
        "processed_wav_files = glob.glob(PROCESSED_DATA_DIR + \"/*.wav\")\n",
        "if len(processed_wav_files) != len(wav_files):\n",
        "  raise ValueError(\n",
        "      f\"The number of processed files ({len(processed_wav_files)}) is not the same as the number of input files ({len(wav_files)}).\"\n",
        "  )\n"
      ],
      "metadata": {
        "colab": {
          "base_uri": "https://localhost:8080/",
          "height": 49,
          "referenced_widgets": [
            "6a0fe8f07fb044c0a129238beb66ca48",
            "b7886628799245a283bde391ab8aa8cc",
            "84c11d0035034a4fa90c8131b48ad7c0",
            "7f6dbacdd8ef453386abf64f756e56be",
            "12d2f4b352924ebfa5c520822ec11fb2",
            "bd2c6c63d8034a5090d7544d6aff1026",
            "ef57e42022f54657a34e198f1e9f0a3b",
            "7272c0bbb9d54693b33671cd3f0a95ac",
            "efcb54dd3dd6463f8bdc4f2b6be9272e",
            "be03fdb4d9844784a34a2f29a7284240",
            "7bbcb67a24a94e3b8a92faea1ee2d6bf"
          ]
        },
        "id": "FxnKaqnzbv7Q",
        "outputId": "83357d88-ef70-464b-d34c-ceda20a9fdd4"
      },
      "execution_count": null,
      "outputs": [
        {
          "output_type": "display_data",
          "data": {
            "text/plain": [
              "  0%|          | 0/5000 [00:00<?, ?it/s]"
            ],
            "application/vnd.jupyter.widget-view+json": {
              "version_major": 2,
              "version_minor": 0,
              "model_id": "6a0fe8f07fb044c0a129238beb66ca48"
            }
          },
          "metadata": {}
        }
      ]
    },
    {
      "cell_type": "markdown",
      "source": [
        "## Match sentences to audio files"
      ],
      "metadata": {
        "id": "eaM2hADkxSic"
      }
    },
    {
      "cell_type": "code",
      "source": [
        "import pandas as pd\n",
        "\n",
        "ACHOLIData=pd.read_excel(io='/content/drive/MyDrive/acholi_5000.xlsx')\n",
        "\n",
        "# Printing few records of the data\n",
        "ACHOLIData.head(n=5)"
      ],
      "metadata": {
        "colab": {
          "base_uri": "https://localhost:8080/",
          "height": 206
        },
        "id": "BU7uZNpuGjw7",
        "outputId": "587e86c4-a927-40cb-a0e4-3279905b5561"
      },
      "execution_count": 8,
      "outputs": [
        {
          "output_type": "execute_result",
          "data": {
            "text/plain": [
              "    id                                           sentence        filename\n",
              "0  100       Yub me nyutu jami acata obedo yo acel me cat  Acholi 100.wav\n",
              "1  101  Miyo twero me tic ki ngom bot ngat moni pi kar...  Acholi 101.wav\n",
              "2  102  Gum madwong me timo biacara tye I te yub ma pe...  Acholi 102.wav\n",
              "3  103                  Pol bank ma tye ni gimiyo lim den  Acholi 103.wav\n",
              "4  104  Gangi kwan I ter kare ni pwonyo lutino kwan ki...  Acholi 104.wav"
            ],
            "text/html": [
              "\n",
              "\n",
              "  <div id=\"df-dfa0abcc-f042-42bd-84eb-af2022c76a62\">\n",
              "    <div class=\"colab-df-container\">\n",
              "      <div>\n",
              "<style scoped>\n",
              "    .dataframe tbody tr th:only-of-type {\n",
              "        vertical-align: middle;\n",
              "    }\n",
              "\n",
              "    .dataframe tbody tr th {\n",
              "        vertical-align: top;\n",
              "    }\n",
              "\n",
              "    .dataframe thead th {\n",
              "        text-align: right;\n",
              "    }\n",
              "</style>\n",
              "<table border=\"1\" class=\"dataframe\">\n",
              "  <thead>\n",
              "    <tr style=\"text-align: right;\">\n",
              "      <th></th>\n",
              "      <th>id</th>\n",
              "      <th>sentence</th>\n",
              "      <th>filename</th>\n",
              "    </tr>\n",
              "  </thead>\n",
              "  <tbody>\n",
              "    <tr>\n",
              "      <th>0</th>\n",
              "      <td>100</td>\n",
              "      <td>Yub me nyutu jami acata obedo yo acel me cat</td>\n",
              "      <td>Acholi 100.wav</td>\n",
              "    </tr>\n",
              "    <tr>\n",
              "      <th>1</th>\n",
              "      <td>101</td>\n",
              "      <td>Miyo twero me tic ki ngom bot ngat moni pi kar...</td>\n",
              "      <td>Acholi 101.wav</td>\n",
              "    </tr>\n",
              "    <tr>\n",
              "      <th>2</th>\n",
              "      <td>102</td>\n",
              "      <td>Gum madwong me timo biacara tye I te yub ma pe...</td>\n",
              "      <td>Acholi 102.wav</td>\n",
              "    </tr>\n",
              "    <tr>\n",
              "      <th>3</th>\n",
              "      <td>103</td>\n",
              "      <td>Pol bank ma tye ni gimiyo lim den</td>\n",
              "      <td>Acholi 103.wav</td>\n",
              "    </tr>\n",
              "    <tr>\n",
              "      <th>4</th>\n",
              "      <td>104</td>\n",
              "      <td>Gangi kwan I ter kare ni pwonyo lutino kwan ki...</td>\n",
              "      <td>Acholi 104.wav</td>\n",
              "    </tr>\n",
              "  </tbody>\n",
              "</table>\n",
              "</div>\n",
              "      <button class=\"colab-df-convert\" onclick=\"convertToInteractive('df-dfa0abcc-f042-42bd-84eb-af2022c76a62')\"\n",
              "              title=\"Convert this dataframe to an interactive table.\"\n",
              "              style=\"display:none;\">\n",
              "\n",
              "  <svg xmlns=\"http://www.w3.org/2000/svg\" height=\"24px\"viewBox=\"0 0 24 24\"\n",
              "       width=\"24px\">\n",
              "    <path d=\"M0 0h24v24H0V0z\" fill=\"none\"/>\n",
              "    <path d=\"M18.56 5.44l.94 2.06.94-2.06 2.06-.94-2.06-.94-.94-2.06-.94 2.06-2.06.94zm-11 1L8.5 8.5l.94-2.06 2.06-.94-2.06-.94L8.5 2.5l-.94 2.06-2.06.94zm10 10l.94 2.06.94-2.06 2.06-.94-2.06-.94-.94-2.06-.94 2.06-2.06.94z\"/><path d=\"M17.41 7.96l-1.37-1.37c-.4-.4-.92-.59-1.43-.59-.52 0-1.04.2-1.43.59L10.3 9.45l-7.72 7.72c-.78.78-.78 2.05 0 2.83L4 21.41c.39.39.9.59 1.41.59.51 0 1.02-.2 1.41-.59l7.78-7.78 2.81-2.81c.8-.78.8-2.07 0-2.86zM5.41 20L4 18.59l7.72-7.72 1.47 1.35L5.41 20z\"/>\n",
              "  </svg>\n",
              "      </button>\n",
              "\n",
              "\n",
              "\n",
              "    <div id=\"df-d1bc4acd-d2c7-451f-b696-cf6af81c31b5\">\n",
              "      <button class=\"colab-df-quickchart\" onclick=\"quickchart('df-d1bc4acd-d2c7-451f-b696-cf6af81c31b5')\"\n",
              "              title=\"Suggest charts.\"\n",
              "              style=\"display:none;\">\n",
              "\n",
              "<svg xmlns=\"http://www.w3.org/2000/svg\" height=\"24px\"viewBox=\"0 0 24 24\"\n",
              "     width=\"24px\">\n",
              "    <g>\n",
              "        <path d=\"M19 3H5c-1.1 0-2 .9-2 2v14c0 1.1.9 2 2 2h14c1.1 0 2-.9 2-2V5c0-1.1-.9-2-2-2zM9 17H7v-7h2v7zm4 0h-2V7h2v10zm4 0h-2v-4h2v4z\"/>\n",
              "    </g>\n",
              "</svg>\n",
              "      </button>\n",
              "    </div>\n",
              "\n",
              "<style>\n",
              "  .colab-df-quickchart {\n",
              "    background-color: #E8F0FE;\n",
              "    border: none;\n",
              "    border-radius: 50%;\n",
              "    cursor: pointer;\n",
              "    display: none;\n",
              "    fill: #1967D2;\n",
              "    height: 32px;\n",
              "    padding: 0 0 0 0;\n",
              "    width: 32px;\n",
              "  }\n",
              "\n",
              "  .colab-df-quickchart:hover {\n",
              "    background-color: #E2EBFA;\n",
              "    box-shadow: 0px 1px 2px rgba(60, 64, 67, 0.3), 0px 1px 3px 1px rgba(60, 64, 67, 0.15);\n",
              "    fill: #174EA6;\n",
              "  }\n",
              "\n",
              "  [theme=dark] .colab-df-quickchart {\n",
              "    background-color: #3B4455;\n",
              "    fill: #D2E3FC;\n",
              "  }\n",
              "\n",
              "  [theme=dark] .colab-df-quickchart:hover {\n",
              "    background-color: #434B5C;\n",
              "    box-shadow: 0px 1px 3px 1px rgba(0, 0, 0, 0.15);\n",
              "    filter: drop-shadow(0px 1px 2px rgba(0, 0, 0, 0.3));\n",
              "    fill: #FFFFFF;\n",
              "  }\n",
              "</style>\n",
              "\n",
              "    <script>\n",
              "      async function quickchart(key) {\n",
              "        const containerElement = document.querySelector('#' + key);\n",
              "        const charts = await google.colab.kernel.invokeFunction(\n",
              "            'suggestCharts', [key], {});\n",
              "      }\n",
              "    </script>\n",
              "\n",
              "      <script>\n",
              "\n",
              "function displayQuickchartButton(domScope) {\n",
              "  let quickchartButtonEl =\n",
              "    domScope.querySelector('#df-d1bc4acd-d2c7-451f-b696-cf6af81c31b5 button.colab-df-quickchart');\n",
              "  quickchartButtonEl.style.display =\n",
              "    google.colab.kernel.accessAllowed ? 'block' : 'none';\n",
              "}\n",
              "\n",
              "        displayQuickchartButton(document);\n",
              "      </script>\n",
              "      <style>\n",
              "    .colab-df-container {\n",
              "      display:flex;\n",
              "      flex-wrap:wrap;\n",
              "      gap: 12px;\n",
              "    }\n",
              "\n",
              "    .colab-df-convert {\n",
              "      background-color: #E8F0FE;\n",
              "      border: none;\n",
              "      border-radius: 50%;\n",
              "      cursor: pointer;\n",
              "      display: none;\n",
              "      fill: #1967D2;\n",
              "      height: 32px;\n",
              "      padding: 0 0 0 0;\n",
              "      width: 32px;\n",
              "    }\n",
              "\n",
              "    .colab-df-convert:hover {\n",
              "      background-color: #E2EBFA;\n",
              "      box-shadow: 0px 1px 2px rgba(60, 64, 67, 0.3), 0px 1px 3px 1px rgba(60, 64, 67, 0.15);\n",
              "      fill: #174EA6;\n",
              "    }\n",
              "\n",
              "    [theme=dark] .colab-df-convert {\n",
              "      background-color: #3B4455;\n",
              "      fill: #D2E3FC;\n",
              "    }\n",
              "\n",
              "    [theme=dark] .colab-df-convert:hover {\n",
              "      background-color: #434B5C;\n",
              "      box-shadow: 0px 1px 3px 1px rgba(0, 0, 0, 0.15);\n",
              "      filter: drop-shadow(0px 1px 2px rgba(0, 0, 0, 0.3));\n",
              "      fill: #FFFFFF;\n",
              "    }\n",
              "  </style>\n",
              "\n",
              "      <script>\n",
              "        const buttonEl =\n",
              "          document.querySelector('#df-dfa0abcc-f042-42bd-84eb-af2022c76a62 button.colab-df-convert');\n",
              "        buttonEl.style.display =\n",
              "          google.colab.kernel.accessAllowed ? 'block' : 'none';\n",
              "\n",
              "        async function convertToInteractive(key) {\n",
              "          const element = document.querySelector('#df-dfa0abcc-f042-42bd-84eb-af2022c76a62');\n",
              "          const dataTable =\n",
              "            await google.colab.kernel.invokeFunction('convertToInteractive',\n",
              "                                                     [key], {});\n",
              "          if (!dataTable) return;\n",
              "\n",
              "          const docLinkHtml = 'Like what you see? Visit the ' +\n",
              "            '<a target=\"_blank\" href=https://colab.research.google.com/notebooks/data_table.ipynb>data table notebook</a>'\n",
              "            + ' to learn more about interactive tables.';\n",
              "          element.innerHTML = '';\n",
              "          dataTable['output_type'] = 'display_data';\n",
              "          await google.colab.output.renderOutput(dataTable, element);\n",
              "          const docLink = document.createElement('div');\n",
              "          docLink.innerHTML = docLinkHtml;\n",
              "          element.appendChild(docLink);\n",
              "        }\n",
              "      </script>\n",
              "    </div>\n",
              "  </div>\n"
            ]
          },
          "metadata": {},
          "execution_count": 8
        }
      ]
    },
    {
      "cell_type": "code",
      "source": [
        "processed_wav_files.head()"
      ],
      "metadata": {
        "id": "drRmgQx2xRWV",
        "colab": {
          "base_uri": "https://localhost:8080/",
          "height": 181
        },
        "outputId": "a1162c27-852f-48cc-f66f-29b2d7964ec3"
      },
      "execution_count": 9,
      "outputs": [
        {
          "output_type": "error",
          "ename": "NameError",
          "evalue": "ignored",
          "traceback": [
            "\u001b[0;31m---------------------------------------------------------------------------\u001b[0m",
            "\u001b[0;31mNameError\u001b[0m                                 Traceback (most recent call last)",
            "\u001b[0;32m<ipython-input-9-e947a5cc269f>\u001b[0m in \u001b[0;36m<cell line: 1>\u001b[0;34m()\u001b[0m\n\u001b[0;32m----> 1\u001b[0;31m \u001b[0mprocessed_wav_files\u001b[0m\u001b[0;34m.\u001b[0m\u001b[0mhead\u001b[0m\u001b[0;34m(\u001b[0m\u001b[0;34m)\u001b[0m\u001b[0;34m\u001b[0m\u001b[0;34m\u001b[0m\u001b[0m\n\u001b[0m",
            "\u001b[0;31mNameError\u001b[0m: name 'processed_wav_files' is not defined"
          ]
        }
      ]
    }
  ]
}