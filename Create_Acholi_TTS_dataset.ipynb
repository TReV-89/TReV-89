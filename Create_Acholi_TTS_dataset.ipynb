{
  "nbformat": 4,
  "nbformat_minor": 0,
  "metadata": {
    "colab": {
      "provenance": [],
      "include_colab_link": true
    },
    "kernelspec": {
      "name": "python3",
      "display_name": "Python 3"
    },
    "language_info": {
      "name": "python"
    },
    "widgets": {
      "application/vnd.jupyter.widget-state+json": {
        "822edbecf00448c2b05b58222676b94c": {
          "model_module": "@jupyter-widgets/controls",
          "model_name": "HBoxModel",
          "model_module_version": "1.5.0",
          "state": {
            "_dom_classes": [],
            "_model_module": "@jupyter-widgets/controls",
            "_model_module_version": "1.5.0",
            "_model_name": "HBoxModel",
            "_view_count": null,
            "_view_module": "@jupyter-widgets/controls",
            "_view_module_version": "1.5.0",
            "_view_name": "HBoxView",
            "box_style": "",
            "children": [
              "IPY_MODEL_43731caecb814fe0a658b3c2e64df2d4",
              "IPY_MODEL_577bf5d57dd64bd8a3d254a4943bdcc3",
              "IPY_MODEL_c14652c2ed3e4f379c2769ab5152f0de"
            ],
            "layout": "IPY_MODEL_fe41f48986bb4729a225edb9e5ae91b6"
          }
        },
        "43731caecb814fe0a658b3c2e64df2d4": {
          "model_module": "@jupyter-widgets/controls",
          "model_name": "HTMLModel",
          "model_module_version": "1.5.0",
          "state": {
            "_dom_classes": [],
            "_model_module": "@jupyter-widgets/controls",
            "_model_module_version": "1.5.0",
            "_model_name": "HTMLModel",
            "_view_count": null,
            "_view_module": "@jupyter-widgets/controls",
            "_view_module_version": "1.5.0",
            "_view_name": "HTMLView",
            "description": "",
            "description_tooltip": null,
            "layout": "IPY_MODEL_c0e8b86dc3ca43e6a7dc024754028058",
            "placeholder": "​",
            "style": "IPY_MODEL_bc177310ed524ec991642d85166f7eee",
            "value": "100%"
          }
        },
        "577bf5d57dd64bd8a3d254a4943bdcc3": {
          "model_module": "@jupyter-widgets/controls",
          "model_name": "FloatProgressModel",
          "model_module_version": "1.5.0",
          "state": {
            "_dom_classes": [],
            "_model_module": "@jupyter-widgets/controls",
            "_model_module_version": "1.5.0",
            "_model_name": "FloatProgressModel",
            "_view_count": null,
            "_view_module": "@jupyter-widgets/controls",
            "_view_module_version": "1.5.0",
            "_view_name": "ProgressView",
            "bar_style": "success",
            "description": "",
            "description_tooltip": null,
            "layout": "IPY_MODEL_dba3071579f14240b13fc9a570f5d22d",
            "max": 5000,
            "min": 0,
            "orientation": "horizontal",
            "style": "IPY_MODEL_77c86d6702fd4f589ef27c23aa15a186",
            "value": 5000
          }
        },
        "c14652c2ed3e4f379c2769ab5152f0de": {
          "model_module": "@jupyter-widgets/controls",
          "model_name": "HTMLModel",
          "model_module_version": "1.5.0",
          "state": {
            "_dom_classes": [],
            "_model_module": "@jupyter-widgets/controls",
            "_model_module_version": "1.5.0",
            "_model_name": "HTMLModel",
            "_view_count": null,
            "_view_module": "@jupyter-widgets/controls",
            "_view_module_version": "1.5.0",
            "_view_name": "HTMLView",
            "description": "",
            "description_tooltip": null,
            "layout": "IPY_MODEL_7c4242c8e218473c95615a35333b5348",
            "placeholder": "​",
            "style": "IPY_MODEL_3b0397d8797043a8bbd445094e516331",
            "value": " 5000/5000 [31:16&lt;00:00,  3.00it/s]"
          }
        },
        "fe41f48986bb4729a225edb9e5ae91b6": {
          "model_module": "@jupyter-widgets/base",
          "model_name": "LayoutModel",
          "model_module_version": "1.2.0",
          "state": {
            "_model_module": "@jupyter-widgets/base",
            "_model_module_version": "1.2.0",
            "_model_name": "LayoutModel",
            "_view_count": null,
            "_view_module": "@jupyter-widgets/base",
            "_view_module_version": "1.2.0",
            "_view_name": "LayoutView",
            "align_content": null,
            "align_items": null,
            "align_self": null,
            "border": null,
            "bottom": null,
            "display": null,
            "flex": null,
            "flex_flow": null,
            "grid_area": null,
            "grid_auto_columns": null,
            "grid_auto_flow": null,
            "grid_auto_rows": null,
            "grid_column": null,
            "grid_gap": null,
            "grid_row": null,
            "grid_template_areas": null,
            "grid_template_columns": null,
            "grid_template_rows": null,
            "height": null,
            "justify_content": null,
            "justify_items": null,
            "left": null,
            "margin": null,
            "max_height": null,
            "max_width": null,
            "min_height": null,
            "min_width": null,
            "object_fit": null,
            "object_position": null,
            "order": null,
            "overflow": null,
            "overflow_x": null,
            "overflow_y": null,
            "padding": null,
            "right": null,
            "top": null,
            "visibility": null,
            "width": null
          }
        },
        "c0e8b86dc3ca43e6a7dc024754028058": {
          "model_module": "@jupyter-widgets/base",
          "model_name": "LayoutModel",
          "model_module_version": "1.2.0",
          "state": {
            "_model_module": "@jupyter-widgets/base",
            "_model_module_version": "1.2.0",
            "_model_name": "LayoutModel",
            "_view_count": null,
            "_view_module": "@jupyter-widgets/base",
            "_view_module_version": "1.2.0",
            "_view_name": "LayoutView",
            "align_content": null,
            "align_items": null,
            "align_self": null,
            "border": null,
            "bottom": null,
            "display": null,
            "flex": null,
            "flex_flow": null,
            "grid_area": null,
            "grid_auto_columns": null,
            "grid_auto_flow": null,
            "grid_auto_rows": null,
            "grid_column": null,
            "grid_gap": null,
            "grid_row": null,
            "grid_template_areas": null,
            "grid_template_columns": null,
            "grid_template_rows": null,
            "height": null,
            "justify_content": null,
            "justify_items": null,
            "left": null,
            "margin": null,
            "max_height": null,
            "max_width": null,
            "min_height": null,
            "min_width": null,
            "object_fit": null,
            "object_position": null,
            "order": null,
            "overflow": null,
            "overflow_x": null,
            "overflow_y": null,
            "padding": null,
            "right": null,
            "top": null,
            "visibility": null,
            "width": null
          }
        },
        "bc177310ed524ec991642d85166f7eee": {
          "model_module": "@jupyter-widgets/controls",
          "model_name": "DescriptionStyleModel",
          "model_module_version": "1.5.0",
          "state": {
            "_model_module": "@jupyter-widgets/controls",
            "_model_module_version": "1.5.0",
            "_model_name": "DescriptionStyleModel",
            "_view_count": null,
            "_view_module": "@jupyter-widgets/base",
            "_view_module_version": "1.2.0",
            "_view_name": "StyleView",
            "description_width": ""
          }
        },
        "dba3071579f14240b13fc9a570f5d22d": {
          "model_module": "@jupyter-widgets/base",
          "model_name": "LayoutModel",
          "model_module_version": "1.2.0",
          "state": {
            "_model_module": "@jupyter-widgets/base",
            "_model_module_version": "1.2.0",
            "_model_name": "LayoutModel",
            "_view_count": null,
            "_view_module": "@jupyter-widgets/base",
            "_view_module_version": "1.2.0",
            "_view_name": "LayoutView",
            "align_content": null,
            "align_items": null,
            "align_self": null,
            "border": null,
            "bottom": null,
            "display": null,
            "flex": null,
            "flex_flow": null,
            "grid_area": null,
            "grid_auto_columns": null,
            "grid_auto_flow": null,
            "grid_auto_rows": null,
            "grid_column": null,
            "grid_gap": null,
            "grid_row": null,
            "grid_template_areas": null,
            "grid_template_columns": null,
            "grid_template_rows": null,
            "height": null,
            "justify_content": null,
            "justify_items": null,
            "left": null,
            "margin": null,
            "max_height": null,
            "max_width": null,
            "min_height": null,
            "min_width": null,
            "object_fit": null,
            "object_position": null,
            "order": null,
            "overflow": null,
            "overflow_x": null,
            "overflow_y": null,
            "padding": null,
            "right": null,
            "top": null,
            "visibility": null,
            "width": null
          }
        },
        "77c86d6702fd4f589ef27c23aa15a186": {
          "model_module": "@jupyter-widgets/controls",
          "model_name": "ProgressStyleModel",
          "model_module_version": "1.5.0",
          "state": {
            "_model_module": "@jupyter-widgets/controls",
            "_model_module_version": "1.5.0",
            "_model_name": "ProgressStyleModel",
            "_view_count": null,
            "_view_module": "@jupyter-widgets/base",
            "_view_module_version": "1.2.0",
            "_view_name": "StyleView",
            "bar_color": null,
            "description_width": ""
          }
        },
        "7c4242c8e218473c95615a35333b5348": {
          "model_module": "@jupyter-widgets/base",
          "model_name": "LayoutModel",
          "model_module_version": "1.2.0",
          "state": {
            "_model_module": "@jupyter-widgets/base",
            "_model_module_version": "1.2.0",
            "_model_name": "LayoutModel",
            "_view_count": null,
            "_view_module": "@jupyter-widgets/base",
            "_view_module_version": "1.2.0",
            "_view_name": "LayoutView",
            "align_content": null,
            "align_items": null,
            "align_self": null,
            "border": null,
            "bottom": null,
            "display": null,
            "flex": null,
            "flex_flow": null,
            "grid_area": null,
            "grid_auto_columns": null,
            "grid_auto_flow": null,
            "grid_auto_rows": null,
            "grid_column": null,
            "grid_gap": null,
            "grid_row": null,
            "grid_template_areas": null,
            "grid_template_columns": null,
            "grid_template_rows": null,
            "height": null,
            "justify_content": null,
            "justify_items": null,
            "left": null,
            "margin": null,
            "max_height": null,
            "max_width": null,
            "min_height": null,
            "min_width": null,
            "object_fit": null,
            "object_position": null,
            "order": null,
            "overflow": null,
            "overflow_x": null,
            "overflow_y": null,
            "padding": null,
            "right": null,
            "top": null,
            "visibility": null,
            "width": null
          }
        },
        "3b0397d8797043a8bbd445094e516331": {
          "model_module": "@jupyter-widgets/controls",
          "model_name": "DescriptionStyleModel",
          "model_module_version": "1.5.0",
          "state": {
            "_model_module": "@jupyter-widgets/controls",
            "_model_module_version": "1.5.0",
            "_model_name": "DescriptionStyleModel",
            "_view_count": null,
            "_view_module": "@jupyter-widgets/base",
            "_view_module_version": "1.2.0",
            "_view_name": "StyleView",
            "description_width": ""
          }
        }
      }
    }
  },
  "cells": [
    {
      "cell_type": "markdown",
      "metadata": {
        "id": "view-in-github",
        "colab_type": "text"
      },
      "source": [
        "<a href=\"https://colab.research.google.com/github/TReV-89/TReV-89/blob/main/Create_Acholi_TTS_dataset.ipynb\" target=\"_parent\"><img src=\"https://colab.research.google.com/assets/colab-badge.svg\" alt=\"Open In Colab\"/></a>"
      ]
    },
    {
      "cell_type": "markdown",
      "source": [
        "# Acholi TTS Dataset preparation\n",
        "The purpose of this notebook is to create the TTS dataset by aligning the audio files and corresponding sentences.\n",
        "\n",
        "This notebook is specifically for the Acholi audio files.\n",
        "\n",
        "If necessary, this will be generalized to handle multiple languages."
      ],
      "metadata": {
        "id": "bQr2TF4YPY-g"
      }
    },
    {
      "cell_type": "code",
      "execution_count": null,
      "metadata": {
        "colab": {
          "base_uri": "https://localhost:8080/"
        },
        "id": "T_3-wViqPSK_",
        "outputId": "6a7d6628-6d47-4ae7-fa75-d043203f2d18"
      },
      "outputs": [
        {
          "output_type": "stream",
          "name": "stdout",
          "text": [
            "Collecting webrtcvad\n",
            "  Downloading webrtcvad-2.0.10.tar.gz (66 kB)\n",
            "\u001b[2K     \u001b[90m━━━━━━━━━━━━━━━━━━━━━━━━━━━━━━━━━━━━━━━\u001b[0m \u001b[32m66.2/66.2 kB\u001b[0m \u001b[31m961.2 kB/s\u001b[0m eta \u001b[36m0:00:00\u001b[0m\n",
            "\u001b[?25h  Preparing metadata (setup.py) ... \u001b[?25l\u001b[?25hdone\n",
            "Building wheels for collected packages: webrtcvad\n",
            "  Building wheel for webrtcvad (setup.py) ... \u001b[?25l\u001b[?25hdone\n",
            "  Created wheel for webrtcvad: filename=webrtcvad-2.0.10-cp310-cp310-linux_x86_64.whl size=73471 sha256=28a736b1a115586161baefd8e3af1185dfd7d2ad15a4f0d5f798a1e0842615a8\n",
            "  Stored in directory: /root/.cache/pip/wheels/2a/2b/84/ac7bacfe8c68a87c1ee3dd3c66818a54c71599abf308e8eb35\n",
            "Successfully built webrtcvad\n",
            "Installing collected packages: webrtcvad\n",
            "Successfully installed webrtcvad-2.0.10\n",
            "Collecting boto3\n",
            "  Downloading boto3-1.28.9-py3-none-any.whl (135 kB)\n",
            "\u001b[2K     \u001b[90m━━━━━━━━━━━━━━━━━━━━━━━━━━━━━━━━━━━━━━━\u001b[0m \u001b[32m135.7/135.7 kB\u001b[0m \u001b[31m2.7 MB/s\u001b[0m eta \u001b[36m0:00:00\u001b[0m\n",
            "\u001b[?25hCollecting botocore<1.32.0,>=1.31.9 (from boto3)\n",
            "  Downloading botocore-1.31.9-py3-none-any.whl (11.0 MB)\n",
            "\u001b[2K     \u001b[90m━━━━━━━━━━━━━━━━━━━━━━━━━━━━━━━━━━━━━━━━\u001b[0m \u001b[32m11.0/11.0 MB\u001b[0m \u001b[31m68.7 MB/s\u001b[0m eta \u001b[36m0:00:00\u001b[0m\n",
            "\u001b[?25hCollecting jmespath<2.0.0,>=0.7.1 (from boto3)\n",
            "  Downloading jmespath-1.0.1-py3-none-any.whl (20 kB)\n",
            "Collecting s3transfer<0.7.0,>=0.6.0 (from boto3)\n",
            "  Downloading s3transfer-0.6.1-py3-none-any.whl (79 kB)\n",
            "\u001b[2K     \u001b[90m━━━━━━━━━━━━━━━━━━━━━━━━━━━━━━━━━━━━━━━━\u001b[0m \u001b[32m79.8/79.8 kB\u001b[0m \u001b[31m7.4 MB/s\u001b[0m eta \u001b[36m0:00:00\u001b[0m\n",
            "\u001b[?25hRequirement already satisfied: python-dateutil<3.0.0,>=2.1 in /usr/local/lib/python3.10/dist-packages (from botocore<1.32.0,>=1.31.9->boto3) (2.8.2)\n",
            "Requirement already satisfied: urllib3<1.27,>=1.25.4 in /usr/local/lib/python3.10/dist-packages (from botocore<1.32.0,>=1.31.9->boto3) (1.26.16)\n",
            "Requirement already satisfied: six>=1.5 in /usr/local/lib/python3.10/dist-packages (from python-dateutil<3.0.0,>=2.1->botocore<1.32.0,>=1.31.9->boto3) (1.16.0)\n",
            "Installing collected packages: jmespath, botocore, s3transfer, boto3\n",
            "Successfully installed boto3-1.28.9 botocore-1.31.9 jmespath-1.0.1 s3transfer-0.6.1\n"
          ]
        }
      ],
      "source": [
        "!pip install webrtcvad\n",
        "!pip install boto3"
      ]
    },
    {
      "cell_type": "code",
      "source": [
        "import librosa\n",
        "import soundfile\n",
        "import numpy as np\n",
        "import struct\n",
        "import webrtcvad\n",
        "import os\n",
        "import glob\n",
        "import warnings\n",
        "from tqdm.notebook import tqdm\n",
        "from IPython.display import Audio\n",
        "from google.colab import drive\n",
        "drive.mount('/content/drive')"
      ],
      "metadata": {
        "colab": {
          "base_uri": "https://localhost:8080/"
        },
        "id": "3N-3oepKQYag",
        "outputId": "12ed0898-8315-4aae-d122-d46990180437"
      },
      "execution_count": null,
      "outputs": [
        {
          "output_type": "stream",
          "name": "stdout",
          "text": [
            "Mounted at /content/drive\n"
          ]
        }
      ]
    },
    {
      "cell_type": "code",
      "source": [
        "BASE_DIR = '/content/drive/Shareddrives/Sunbird AI/Projects/African Language Technology/Data'\n",
        "RAW_DATA_DIR = f'{BASE_DIR}/Acholi Voice Over/Acholi Voiced Over Phrases-Polin Owiny'\n",
        "PROCESSED_DATA_DIR = f'{BASE_DIR}/acholi_processed'"
      ],
      "metadata": {
        "id": "fiz9S6gUQwVw"
      },
      "execution_count": null,
      "outputs": []
    },
    {
      "cell_type": "code",
      "source": [
        "# Get .wav files from google drive folder\n",
        "def get_wav_files():\n",
        "  wav_files = glob.glob(RAW_DATA_DIR + '/*.wav')\n",
        "  wav_files = [os.path.basename(f) for f in wav_files]\n",
        "  return wav_files\n",
        "\n",
        "wav_files = get_wav_files()\n",
        "num_audio_files = len(wav_files)\n",
        "print(f\"Number of audio files: {num_audio_files}\")"
      ],
      "metadata": {
        "colab": {
          "base_uri": "https://localhost:8080/"
        },
        "id": "_EIeP7GCRG53",
        "outputId": "07889b93-e427-44d5-cc1e-4e9996ed4a83"
      },
      "execution_count": null,
      "outputs": [
        {
          "output_type": "stream",
          "name": "stdout",
          "text": [
            "Number of audio files: 5000\n"
          ]
        }
      ]
    },
    {
      "cell_type": "code",
      "source": [
        "wav_files[0:5]"
      ],
      "metadata": {
        "colab": {
          "base_uri": "https://localhost:8080/"
        },
        "id": "KCxx-xBLRrZ_",
        "outputId": "5c4638dd-e935-4d25-801b-1e0f69a379a1"
      },
      "execution_count": null,
      "outputs": [
        {
          "output_type": "execute_result",
          "data": {
            "text/plain": [
              "['Acholi 4006.wav',\n",
              " 'Acholi 4007.wav',\n",
              " 'Acholi 4008.wav',\n",
              " 'Acholi 4009.wav',\n",
              " 'Acholi 4010.wav']"
            ]
          },
          "metadata": {},
          "execution_count": 6
        }
      ]
    },
    {
      "cell_type": "markdown",
      "source": [
        "## Fix filename errors"
      ],
      "metadata": {
        "id": "i5jCg5O6YWbz"
      }
    },
    {
      "cell_type": "code",
      "source": [
        "# Check filenames\n",
        "def has_expected_filename(filename: str):\n",
        "  split = filename.strip().split(\" \")\n",
        "  if len(split) != 2:\n",
        "    return False, f\"Split returned {len(split)} values instead of 2\", 1\n",
        "\n",
        "  lang, num = split\n",
        "  if lang != 'Acholi':\n",
        "    return False, f\"Wrong language {lang}\", 2\n",
        "\n",
        "  if filename != f\"{lang} {num}\":\n",
        "    return False, f\"Filename is not expected. Got {filename}, expected '{lang} {num}'\", 3\n",
        "  return True, \"All good\", 0\n",
        "\n",
        "\n",
        "def get_bad_files():\n",
        "  bad_files = []\n",
        "  bad_files_by_err = [[], [], [], []]\n",
        "  for filename in wav_files:\n",
        "    is_good, reason, code = has_expected_filename(filename)\n",
        "    if not is_good:\n",
        "      bad_files.append((filename, reason, code))\n",
        "      bad_files_by_err[code].append(filename)\n",
        "  return bad_files, bad_files_by_err\n",
        "\n",
        "bad_files, bad_files_by_err = get_bad_files()\n",
        "print(len(bad_files))"
      ],
      "metadata": {
        "colab": {
          "base_uri": "https://localhost:8080/"
        },
        "id": "a8oyCiFpR3uY",
        "outputId": "cbf9abad-d902-4683-da67-bf3f80a4d7c3"
      },
      "execution_count": null,
      "outputs": [
        {
          "output_type": "stream",
          "name": "stdout",
          "text": [
            "2\n"
          ]
        }
      ]
    },
    {
      "cell_type": "code",
      "source": [
        "bad_files"
      ],
      "metadata": {
        "colab": {
          "base_uri": "https://localhost:8080/"
        },
        "id": "b6JUWvgGWdlg",
        "outputId": "2e6b0087-0cc7-41c0-b1e8-05f07def52b9"
      },
      "execution_count": null,
      "outputs": [
        {
          "output_type": "execute_result",
          "data": {
            "text/plain": [
              "[('Acholi 941 2.wav', 'Split returned 3 values instead of 2', 1),\n",
              " ('Acholi 1996 .wav', 'Split returned 3 values instead of 2', 1)]"
            ]
          },
          "metadata": {},
          "execution_count": 11
        }
      ]
    },
    {
      "cell_type": "code",
      "source": [
        "# rename bad files\n",
        "src = f\"{RAW_DATA_DIR}/Acholi 941 2.wav\"\n",
        "dst = f\"{RAW_DATA_DIR}/Acholi 9412.wav\"\n",
        "os.rename(src, dst)"
      ],
      "metadata": {
        "id": "rvMWODYeWndZ"
      },
      "execution_count": null,
      "outputs": []
    },
    {
      "cell_type": "code",
      "source": [
        "src = f\"{RAW_DATA_DIR}/Acholi 1996 .wav\"\n",
        "dst = f\"{RAW_DATA_DIR}/Acholi 1996.wav\"\n",
        "os.rename(src, dst)"
      ],
      "metadata": {
        "id": "ceXm5qpQXqbf"
      },
      "execution_count": null,
      "outputs": []
    },
    {
      "cell_type": "code",
      "source": [
        "wav_files = get_wav_files()"
      ],
      "metadata": {
        "id": "v08zLbvWYBVR",
        "colab": {
          "base_uri": "https://localhost:8080/",
          "height": 176
        },
        "outputId": "d4f7a4d6-4529-4479-acf7-91eff9e4cb8c"
      },
      "execution_count": null,
      "outputs": [
        {
          "output_type": "error",
          "ename": "NameError",
          "evalue": "ignored",
          "traceback": [
            "\u001b[0;31m---------------------------------------------------------------------------\u001b[0m",
            "\u001b[0;31mNameError\u001b[0m                                 Traceback (most recent call last)",
            "\u001b[0;32m<ipython-input-2-39a83a1b000d>\u001b[0m in \u001b[0;36m<cell line: 1>\u001b[0;34m()\u001b[0m\n\u001b[0;32m----> 1\u001b[0;31m \u001b[0mwav_files\u001b[0m \u001b[0;34m=\u001b[0m \u001b[0mget_wav_files\u001b[0m\u001b[0;34m(\u001b[0m\u001b[0;34m)\u001b[0m\u001b[0;34m\u001b[0m\u001b[0;34m\u001b[0m\u001b[0m\n\u001b[0m",
            "\u001b[0;31mNameError\u001b[0m: name 'get_wav_files' is not defined"
          ]
        }
      ]
    },
    {
      "cell_type": "code",
      "source": [
        "# No more filename errors\n",
        "bad_files, bad_files_by_err = get_bad_files()\n",
        "print(len(bad_files))"
      ],
      "metadata": {
        "colab": {
          "base_uri": "https://localhost:8080/",
          "height": 211
        },
        "id": "xy8rpXHQYFDx",
        "outputId": "8f38b644-ee59-499e-d01d-94ba68826c34"
      },
      "execution_count": null,
      "outputs": [
        {
          "output_type": "error",
          "ename": "NameError",
          "evalue": "ignored",
          "traceback": [
            "\u001b[0;31m---------------------------------------------------------------------------\u001b[0m",
            "\u001b[0;31mNameError\u001b[0m                                 Traceback (most recent call last)",
            "\u001b[0;32m<ipython-input-3-2cc04ff6f68e>\u001b[0m in \u001b[0;36m<cell line: 2>\u001b[0;34m()\u001b[0m\n\u001b[1;32m      1\u001b[0m \u001b[0;31m# No more filename errors\u001b[0m\u001b[0;34m\u001b[0m\u001b[0;34m\u001b[0m\u001b[0m\n\u001b[0;32m----> 2\u001b[0;31m \u001b[0mbad_files\u001b[0m\u001b[0;34m,\u001b[0m \u001b[0mbad_files_by_err\u001b[0m \u001b[0;34m=\u001b[0m \u001b[0mget_bad_files\u001b[0m\u001b[0;34m(\u001b[0m\u001b[0;34m)\u001b[0m\u001b[0;34m\u001b[0m\u001b[0;34m\u001b[0m\u001b[0m\n\u001b[0m\u001b[1;32m      3\u001b[0m \u001b[0mprint\u001b[0m\u001b[0;34m(\u001b[0m\u001b[0mlen\u001b[0m\u001b[0;34m(\u001b[0m\u001b[0mbad_files\u001b[0m\u001b[0;34m)\u001b[0m\u001b[0;34m)\u001b[0m\u001b[0;34m\u001b[0m\u001b[0;34m\u001b[0m\u001b[0m\n",
            "\u001b[0;31mNameError\u001b[0m: name 'get_bad_files' is not defined"
          ]
        }
      ]
    },
    {
      "cell_type": "markdown",
      "source": [
        "## Voice Activity Detection"
      ],
      "metadata": {
        "id": "Z7sX4QoHYRtN"
      }
    },
    {
      "cell_type": "code",
      "source": [
        "class Frame(object):\n",
        "  def __init__(self, bytes, timestamp, duration):\n",
        "    self.bytes = bytes\n",
        "    self.timestamp = timestamp\n",
        "    self.duration = duration\n",
        "\n",
        "def frame_generator(frame_duration_ms, audio, sample_rate):\n",
        "  \"\"\"Splits PCM audio into frames.\"\"\"\n",
        "  n = int(sample_rate * (frame_duration_ms / 1000.0) * 2)\n",
        "  offset = 0\n",
        "  timestamp = 0.0\n",
        "  duration = (float(n) / sample_rate) / 2.0\n",
        "  while offset + n < len(audio):\n",
        "    yield Frame(audio[offset:offset + n], timestamp, duration)\n",
        "    timestamp += duration\n",
        "    offset += n\n",
        "\n",
        "def waveform_to_pcm_bytes(wave):\n",
        "  \"\"\"Convert waveform from numpy array to PCM byte sequence.\"\"\"\n",
        "  x = np.int32(wave * 0x7fff)\n",
        "  x = np.clip(x, -32768, 32767).astype(np.short)\n",
        "  pcm = struct.pack(f'<{len(x)}h', *list(x))\n",
        "  return pcm\n",
        "\n",
        "def trim_speech(input_wav_path, output_wav_path, output_sample_rate = 22050):\n",
        "  \"\"\"Remove non-speech from the beginning and end of wav audio.\"\"\"\n",
        "\n",
        "  # Read in the original file at 32kHz sample rate\n",
        "  wave, rate = librosa.load(input_wav_path, sr=32000)\n",
        "\n",
        "  # Split waveform into 30ms frames, and find which contain speech\n",
        "  vad = webrtcvad.Vad(3)\n",
        "  pcm = waveform_to_pcm_bytes(wave)\n",
        "  frames = frame_generator(30, pcm, rate)\n",
        "  is_speech = [vad.is_speech(frame.bytes, rate) for frame in frames]\n",
        "\n",
        "  # Find the first and last frames with speech activity\n",
        "  speech_frames = np.where(is_speech)[0]\n",
        "  start_frame = np.min(speech_frames)\n",
        "  end_frame = np.max(speech_frames)\n",
        "\n",
        "  # Trim the waveform correspondingly\n",
        "  start_index = int(start_frame * 0.03 * rate)\n",
        "  end_index = min(int(end_frame * 0.03 * rate), len(wave))\n",
        "  trimmed_wave = wave[start_index:end_index]\n",
        "\n",
        "  if len(trimmed_wave) < 0.5 * rate:\n",
        "    warnings.warn(f'The output audio being saved to {output_wav_path} is less than 0.5 seconds. There may be an alignment or recording error.')\n",
        "\n",
        "  # Resample to desired output rate.\n",
        "  trimmed_wave = librosa.resample(trimmed_wave, orig_sr=rate, target_sr=output_sample_rate)\n",
        "  soundfile.write(output_wav_path, trimmed_wave, output_sample_rate)\n"
      ],
      "metadata": {
        "id": "zmXIytFeYPLX"
      },
      "execution_count": null,
      "outputs": []
    },
    {
      "cell_type": "code",
      "source": [
        "# Carry out the trimming and resampling on all files, with the option to skip any which were already processed.\n",
        "\n",
        "skip_existing_output_files = True\n",
        "\n",
        "for f in tqdm(wav_files):\n",
        "  input_path = os.path.join(RAW_DATA_DIR, f)\n",
        "  output_path = os.path.join(PROCESSED_DATA_DIR, f)\n",
        "  if os.path.exists(output_path) and skip_existing_output_files:\n",
        "    continue\n",
        "  else:\n",
        "    trim_speech(input_path, output_path)\n",
        "\n",
        "# Check we converted everything\n",
        "processed_wav_files = glob.glob(PROCESSED_DATA_DIR + \"/*.wav\")\n",
        "if len(processed_wav_files) != len(wav_files):\n",
        "  raise ValueError(\n",
        "      f\"The number of processed files ({len(processed_wav_files)}) is not the same as the number of input files ({len(wav_files)}).\"\n",
        "  )\n"
      ],
      "metadata": {
        "colab": {
          "base_uri": "https://localhost:8080/",
          "height": 49,
          "referenced_widgets": [
            "822edbecf00448c2b05b58222676b94c",
            "43731caecb814fe0a658b3c2e64df2d4",
            "577bf5d57dd64bd8a3d254a4943bdcc3",
            "c14652c2ed3e4f379c2769ab5152f0de",
            "fe41f48986bb4729a225edb9e5ae91b6",
            "c0e8b86dc3ca43e6a7dc024754028058",
            "bc177310ed524ec991642d85166f7eee",
            "dba3071579f14240b13fc9a570f5d22d",
            "77c86d6702fd4f589ef27c23aa15a186",
            "7c4242c8e218473c95615a35333b5348",
            "3b0397d8797043a8bbd445094e516331"
          ]
        },
        "id": "FxnKaqnzbv7Q",
        "outputId": "ec75f4e4-ad1e-43bc-8206-9c4faaf73660"
      },
      "execution_count": null,
      "outputs": [
        {
          "data": {
            "application/vnd.jupyter.widget-view+json": {
              "model_id": "822edbecf00448c2b05b58222676b94c",
              "version_major": 2,
              "version_minor": 0
            },
            "text/plain": [
              "  0%|          | 0/5000 [00:00<?, ?it/s]"
            ]
          },
          "metadata": {},
          "output_type": "display_data"
        }
      ]
    },
    {
      "cell_type": "markdown",
      "source": [
        "## Match sentences to audio files"
      ],
      "metadata": {
        "id": "eaM2hADkxSic"
      }
    },
    {
      "cell_type": "code",
      "source": [],
      "metadata": {
        "id": "drRmgQx2xRWV"
      },
      "execution_count": null,
      "outputs": []
    }
  ]
}