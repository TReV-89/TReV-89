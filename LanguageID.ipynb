{
  "nbformat": 4,
  "nbformat_minor": 0,
  "metadata": {
    "colab": {
      "provenance": [],
      "authorship_tag": "ABX9TyNJCbiwSlXFRDY57qb9uf9Z",
      "include_colab_link": true
    },
    "kernelspec": {
      "name": "python3",
      "display_name": "Python 3"
    },
    "language_info": {
      "name": "python"
    }
  },
  "cells": [
    {
      "cell_type": "markdown",
      "metadata": {
        "id": "view-in-github",
        "colab_type": "text"
      },
      "source": [
        "<a href=\"https://colab.research.google.com/github/TReV-89/TReV-89/blob/main/LanguageID.ipynb\" target=\"_parent\"><img src=\"https://colab.research.google.com/assets/colab-badge.svg\" alt=\"Open In Colab\"/></a>"
      ]
    },
    {
      "cell_type": "code",
      "execution_count": 3,
      "metadata": {
        "id": "A30h-OFO3FOf"
      },
      "outputs": [],
      "source": [
        "import pandas as pd\n",
        "import numpy as np\n",
        "import json as js"
      ]
    },
    {
      "cell_type": "code",
      "source": [
        "with open(\"/content/salt-dev-v1.1.jsonl\") as f:\n",
        "    lines = f.read().splitlines()\n",
        "df_inter = pd.DataFrame(lines)\n",
        "df_inter.columns = ['json_element']\n",
        "training_df = pd.json_normalize(df_inter['json_element'].apply(js.loads))\n",
        "training_df.info()"
      ],
      "metadata": {
        "id": "4zvtSQz_5YCl"
      },
      "execution_count": null,
      "outputs": []
    },
    {
      "cell_type": "code",
      "source": [],
      "metadata": {
        "id": "k1L3p2e_70HE"
      },
      "execution_count": null,
      "outputs": []
    },
    {
      "cell_type": "code",
      "source": [
        "with open(\"/content/Jsonl Files/salt-test-v1.1.jsonl\") as f1:\n",
        "    lines1 = f1.read().splitlines()\n",
        "df1_inter = pd.DataFrame(lines1)\n",
        "df1_inter.columns = ['json_element']\n",
        "test_df = pd.json_normalize(df1_inter['json_element'].apply(js.loads))\n"
      ],
      "metadata": {
        "id": "7GpfnKrSAaVN"
      },
      "execution_count": null,
      "outputs": []
    },
    {
      "cell_type": "code",
      "source": [
        "with open(\"/content/Jsonl Files/salt-dev-v1.1.jsonl\") as f2:\n",
        "    lines2 = f2.read().splitlines()\n",
        "df2_inter = pd.DataFrame(lines2)\n",
        "df2_inter.columns = ['json_element']\n",
        "validation_df = pd.json_normalize(df2_inter['json_element'].apply(js.loads))\n"
      ],
      "metadata": {
        "id": "kbYhb0HJAWeR"
      },
      "execution_count": null,
      "outputs": []
    }
  ]
}