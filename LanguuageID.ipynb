{
  "nbformat": 4,
  "nbformat_minor": 0,
  "metadata": {
    "colab": {
      "provenance": [],
      "toc_visible": true,
      "mount_file_id": "1OhKara1CX83iCmQEF-uMsN0NIQu1BEWN",
      "authorship_tag": "ABX9TyOJE51K6B+2dQGnNST/yQRX",
      "include_colab_link": true
    },
    "kernelspec": {
      "name": "python3",
      "display_name": "Python 3"
    },
    "language_info": {
      "name": "python"
    }
  },
  "cells": [
    {
      "cell_type": "markdown",
      "metadata": {
        "id": "view-in-github",
        "colab_type": "text"
      },
      "source": [
        "<a href=\"https://colab.research.google.com/github/TReV-89/TReV-89/blob/main/LanguuageID.ipynb\" target=\"_parent\"><img src=\"https://colab.research.google.com/assets/colab-badge.svg\" alt=\"Open In Colab\"/></a>"
      ]
    },
    {
      "cell_type": "code",
      "execution_count": 2,
      "metadata": {
        "id": "A30h-OFO3FOf"
      },
      "outputs": [],
      "source": [
        "import numpy as np\n",
        "import pandas as pd\n",
        "from sklearn.linear_model import LogisticRegression\n",
        "from sklearn.model_selection import train_test_split\n",
        "from sklearn.pipeline import Pipeline\n",
        "from sklearn.naive_bayes import MultinomialNB, ComplementNB, BernoulliNB\n",
        "from sklearn.feature_extraction.text import CountVectorizer\n",
        "from sklearn.metrics import classification_report,accuracy_score"
      ]
    },
    {
      "cell_type": "code",
      "source": [
        "df = pd.read_json(\"/content/drive/MyDrive/salt-train-v1.2.jsonl\", lines = True)\n",
        "df.pop(\"tts-speech\")\n",
        "data = {\n",
        "    \"language\": [],\n",
        "    \"text\": []\n",
        "}\n",
        "for row in df['text']:\n",
        "    for key, value in row.items():\n",
        "        data[\"language\"].append(key)\n",
        "        data[\"text\"].append(value)\n",
        "df1 = pd.DataFrame(data,columns = ['language','text'])\n",
        "df1.head()"
      ],
      "metadata": {
        "id": "4zvtSQz_5YCl",
        "colab": {
          "base_uri": "https://localhost:8080/",
          "height": 206
        },
        "outputId": "b4da2437-9937-443b-8f0a-659b1e879392"
      },
      "execution_count": 3,
      "outputs": [
        {
          "output_type": "execute_result",
          "data": {
            "text/plain": [
              "  language                                               text\n",
              "0      eng                   It was not a ghost refugee camp.\n",
              "1      lug  Enkambi y'abanoonyiboobubudamu teyaliiwo mu bu...\n",
              "2      ach                             Pe obedo kem goba goba\n",
              "3      teo                      Mam arai ekabi lo erai ekwam.\n",
              "4      lgg  Eri aa'ni ndra kembe emunyale eyini aa'zu inzo..."
            ],
            "text/html": [
              "\n",
              "\n",
              "  <div id=\"df-5448d804-f8f6-4fe0-bf0d-3df324dcb7be\">\n",
              "    <div class=\"colab-df-container\">\n",
              "      <div>\n",
              "<style scoped>\n",
              "    .dataframe tbody tr th:only-of-type {\n",
              "        vertical-align: middle;\n",
              "    }\n",
              "\n",
              "    .dataframe tbody tr th {\n",
              "        vertical-align: top;\n",
              "    }\n",
              "\n",
              "    .dataframe thead th {\n",
              "        text-align: right;\n",
              "    }\n",
              "</style>\n",
              "<table border=\"1\" class=\"dataframe\">\n",
              "  <thead>\n",
              "    <tr style=\"text-align: right;\">\n",
              "      <th></th>\n",
              "      <th>language</th>\n",
              "      <th>text</th>\n",
              "    </tr>\n",
              "  </thead>\n",
              "  <tbody>\n",
              "    <tr>\n",
              "      <th>0</th>\n",
              "      <td>eng</td>\n",
              "      <td>It was not a ghost refugee camp.</td>\n",
              "    </tr>\n",
              "    <tr>\n",
              "      <th>1</th>\n",
              "      <td>lug</td>\n",
              "      <td>Enkambi y'abanoonyiboobubudamu teyaliiwo mu bu...</td>\n",
              "    </tr>\n",
              "    <tr>\n",
              "      <th>2</th>\n",
              "      <td>ach</td>\n",
              "      <td>Pe obedo kem goba goba</td>\n",
              "    </tr>\n",
              "    <tr>\n",
              "      <th>3</th>\n",
              "      <td>teo</td>\n",
              "      <td>Mam arai ekabi lo erai ekwam.</td>\n",
              "    </tr>\n",
              "    <tr>\n",
              "      <th>4</th>\n",
              "      <td>lgg</td>\n",
              "      <td>Eri aa'ni ndra kembe emunyale eyini aa'zu inzo...</td>\n",
              "    </tr>\n",
              "  </tbody>\n",
              "</table>\n",
              "</div>\n",
              "      <button class=\"colab-df-convert\" onclick=\"convertToInteractive('df-5448d804-f8f6-4fe0-bf0d-3df324dcb7be')\"\n",
              "              title=\"Convert this dataframe to an interactive table.\"\n",
              "              style=\"display:none;\">\n",
              "\n",
              "  <svg xmlns=\"http://www.w3.org/2000/svg\" height=\"24px\"viewBox=\"0 0 24 24\"\n",
              "       width=\"24px\">\n",
              "    <path d=\"M0 0h24v24H0V0z\" fill=\"none\"/>\n",
              "    <path d=\"M18.56 5.44l.94 2.06.94-2.06 2.06-.94-2.06-.94-.94-2.06-.94 2.06-2.06.94zm-11 1L8.5 8.5l.94-2.06 2.06-.94-2.06-.94L8.5 2.5l-.94 2.06-2.06.94zm10 10l.94 2.06.94-2.06 2.06-.94-2.06-.94-.94-2.06-.94 2.06-2.06.94z\"/><path d=\"M17.41 7.96l-1.37-1.37c-.4-.4-.92-.59-1.43-.59-.52 0-1.04.2-1.43.59L10.3 9.45l-7.72 7.72c-.78.78-.78 2.05 0 2.83L4 21.41c.39.39.9.59 1.41.59.51 0 1.02-.2 1.41-.59l7.78-7.78 2.81-2.81c.8-.78.8-2.07 0-2.86zM5.41 20L4 18.59l7.72-7.72 1.47 1.35L5.41 20z\"/>\n",
              "  </svg>\n",
              "      </button>\n",
              "\n",
              "\n",
              "\n",
              "    <div id=\"df-cd45322c-d6b8-4e76-8de5-cdef4d9e79c2\">\n",
              "      <button class=\"colab-df-quickchart\" onclick=\"quickchart('df-cd45322c-d6b8-4e76-8de5-cdef4d9e79c2')\"\n",
              "              title=\"Suggest charts.\"\n",
              "              style=\"display:none;\">\n",
              "\n",
              "<svg xmlns=\"http://www.w3.org/2000/svg\" height=\"24px\"viewBox=\"0 0 24 24\"\n",
              "     width=\"24px\">\n",
              "    <g>\n",
              "        <path d=\"M19 3H5c-1.1 0-2 .9-2 2v14c0 1.1.9 2 2 2h14c1.1 0 2-.9 2-2V5c0-1.1-.9-2-2-2zM9 17H7v-7h2v7zm4 0h-2V7h2v10zm4 0h-2v-4h2v4z\"/>\n",
              "    </g>\n",
              "</svg>\n",
              "      </button>\n",
              "    </div>\n",
              "\n",
              "<style>\n",
              "  .colab-df-quickchart {\n",
              "    background-color: #E8F0FE;\n",
              "    border: none;\n",
              "    border-radius: 50%;\n",
              "    cursor: pointer;\n",
              "    display: none;\n",
              "    fill: #1967D2;\n",
              "    height: 32px;\n",
              "    padding: 0 0 0 0;\n",
              "    width: 32px;\n",
              "  }\n",
              "\n",
              "  .colab-df-quickchart:hover {\n",
              "    background-color: #E2EBFA;\n",
              "    box-shadow: 0px 1px 2px rgba(60, 64, 67, 0.3), 0px 1px 3px 1px rgba(60, 64, 67, 0.15);\n",
              "    fill: #174EA6;\n",
              "  }\n",
              "\n",
              "  [theme=dark] .colab-df-quickchart {\n",
              "    background-color: #3B4455;\n",
              "    fill: #D2E3FC;\n",
              "  }\n",
              "\n",
              "  [theme=dark] .colab-df-quickchart:hover {\n",
              "    background-color: #434B5C;\n",
              "    box-shadow: 0px 1px 3px 1px rgba(0, 0, 0, 0.15);\n",
              "    filter: drop-shadow(0px 1px 2px rgba(0, 0, 0, 0.3));\n",
              "    fill: #FFFFFF;\n",
              "  }\n",
              "</style>\n",
              "\n",
              "    <script>\n",
              "      async function quickchart(key) {\n",
              "        const containerElement = document.querySelector('#' + key);\n",
              "        const charts = await google.colab.kernel.invokeFunction(\n",
              "            'suggestCharts', [key], {});\n",
              "      }\n",
              "    </script>\n",
              "\n",
              "      <script>\n",
              "\n",
              "function displayQuickchartButton(domScope) {\n",
              "  let quickchartButtonEl =\n",
              "    domScope.querySelector('#df-cd45322c-d6b8-4e76-8de5-cdef4d9e79c2 button.colab-df-quickchart');\n",
              "  quickchartButtonEl.style.display =\n",
              "    google.colab.kernel.accessAllowed ? 'block' : 'none';\n",
              "}\n",
              "\n",
              "        displayQuickchartButton(document);\n",
              "      </script>\n",
              "      <style>\n",
              "    .colab-df-container {\n",
              "      display:flex;\n",
              "      flex-wrap:wrap;\n",
              "      gap: 12px;\n",
              "    }\n",
              "\n",
              "    .colab-df-convert {\n",
              "      background-color: #E8F0FE;\n",
              "      border: none;\n",
              "      border-radius: 50%;\n",
              "      cursor: pointer;\n",
              "      display: none;\n",
              "      fill: #1967D2;\n",
              "      height: 32px;\n",
              "      padding: 0 0 0 0;\n",
              "      width: 32px;\n",
              "    }\n",
              "\n",
              "    .colab-df-convert:hover {\n",
              "      background-color: #E2EBFA;\n",
              "      box-shadow: 0px 1px 2px rgba(60, 64, 67, 0.3), 0px 1px 3px 1px rgba(60, 64, 67, 0.15);\n",
              "      fill: #174EA6;\n",
              "    }\n",
              "\n",
              "    [theme=dark] .colab-df-convert {\n",
              "      background-color: #3B4455;\n",
              "      fill: #D2E3FC;\n",
              "    }\n",
              "\n",
              "    [theme=dark] .colab-df-convert:hover {\n",
              "      background-color: #434B5C;\n",
              "      box-shadow: 0px 1px 3px 1px rgba(0, 0, 0, 0.15);\n",
              "      filter: drop-shadow(0px 1px 2px rgba(0, 0, 0, 0.3));\n",
              "      fill: #FFFFFF;\n",
              "    }\n",
              "  </style>\n",
              "\n",
              "      <script>\n",
              "        const buttonEl =\n",
              "          document.querySelector('#df-5448d804-f8f6-4fe0-bf0d-3df324dcb7be button.colab-df-convert');\n",
              "        buttonEl.style.display =\n",
              "          google.colab.kernel.accessAllowed ? 'block' : 'none';\n",
              "\n",
              "        async function convertToInteractive(key) {\n",
              "          const element = document.querySelector('#df-5448d804-f8f6-4fe0-bf0d-3df324dcb7be');\n",
              "          const dataTable =\n",
              "            await google.colab.kernel.invokeFunction('convertToInteractive',\n",
              "                                                     [key], {});\n",
              "          if (!dataTable) return;\n",
              "\n",
              "          const docLinkHtml = 'Like what you see? Visit the ' +\n",
              "            '<a target=\"_blank\" href=https://colab.research.google.com/notebooks/data_table.ipynb>data table notebook</a>'\n",
              "            + ' to learn more about interactive tables.';\n",
              "          element.innerHTML = '';\n",
              "          dataTable['output_type'] = 'display_data';\n",
              "          await google.colab.output.renderOutput(dataTable, element);\n",
              "          const docLink = document.createElement('div');\n",
              "          docLink.innerHTML = docLinkHtml;\n",
              "          element.appendChild(docLink);\n",
              "        }\n",
              "      </script>\n",
              "    </div>\n",
              "  </div>\n"
            ]
          },
          "metadata": {},
          "execution_count": 3
        }
      ]
    },
    {
      "cell_type": "code",
      "source": [
        "X = df1['text']\n",
        "Y = df1['language']\n",
        "X_train, X_test, Y_train, Y_test = train_test_split(X, Y, test_size=0.33, random_state=42)\n"
      ],
      "metadata": {
        "id": "A2h6fuV3Xr1U"
      },
      "execution_count": 4,
      "outputs": []
    },
    {
      "cell_type": "code",
      "source": [
        "count = CountVectorizer(analyzer = 'char',ngram_range=(1,3))\n",
        "\n",
        "pipeline = Pipeline([\n",
        "   ('vectorizer',count),\n",
        "   ('model',MultinomialNB())\n",
        "])\n",
        "pipeline.fit(X_train,Y_train)\n",
        "Y_pred = pipeline.predict(X_test)\n",
        "\n",
        "print(classification_report(Y_test,Y_pred))\n",
        "\n",
        "accuracy = accuracy_score(Y_test, Y_pred)\n",
        "print(\"Accuracy:\", accuracy)"
      ],
      "metadata": {
        "colab": {
          "base_uri": "https://localhost:8080/"
        },
        "id": "-yR614bJqMBA",
        "outputId": "a51f14be-d7d4-42d5-f35c-eb0b0e7afa49"
      },
      "execution_count": 5,
      "outputs": [
        {
          "output_type": "stream",
          "name": "stdout",
          "text": [
            "              precision    recall  f1-score   support\n",
            "\n",
            "         ach       1.00      1.00      1.00      7826\n",
            "         eng       1.00      1.00      1.00      7783\n",
            "         lgg       1.00      1.00      1.00      8089\n",
            "         lug       0.99      0.99      0.99      7799\n",
            "         nyn       1.00      0.99      0.99      7967\n",
            "         teo       1.00      1.00      1.00      7952\n",
            "\n",
            "    accuracy                           1.00     47416\n",
            "   macro avg       1.00      1.00      1.00     47416\n",
            "weighted avg       1.00      1.00      1.00     47416\n",
            "\n",
            "Accuracy: 0.9971528597941623\n"
          ]
        }
      ]
    },
    {
      "cell_type": "code",
      "source": [
        "count = CountVectorizer(analyzer = 'char',ngram_range=(1,3))\n",
        "\n",
        "pipeline = Pipeline([\n",
        "   ('vectorizer',count),\n",
        "   ('model',BernoulliNB())\n",
        "])\n",
        "pipeline.fit(X_train,Y_train)\n",
        "Y_pred = pipeline.predict(X_test)\n",
        "\n",
        "print(classification_report(Y_test,Y_pred))\n",
        "\n",
        "accuracy = accuracy_score(Y_test, Y_pred)\n",
        "print(\"Accuracy:\", accuracy)"
      ],
      "metadata": {
        "id": "yCmOhoLNnVul",
        "colab": {
          "base_uri": "https://localhost:8080/"
        },
        "outputId": "2a6a7514-0d7d-486c-d7f4-00019e0d1504"
      },
      "execution_count": 43,
      "outputs": [
        {
          "output_type": "stream",
          "name": "stdout",
          "text": [
            "              precision    recall  f1-score   support\n",
            "\n",
            "         ach       1.00      1.00      1.00      7826\n",
            "         eng       1.00      1.00      1.00      7783\n",
            "         lgg       1.00      1.00      1.00      8089\n",
            "         lug       0.99      0.99      0.99      7799\n",
            "         nyn       1.00      0.99      0.99      7967\n",
            "         teo       1.00      1.00      1.00      7952\n",
            "\n",
            "    accuracy                           1.00     47416\n",
            "   macro avg       1.00      1.00      1.00     47416\n",
            "weighted avg       1.00      1.00      1.00     47416\n",
            "\n",
            "Accuracy: 0.9967099713176987\n"
          ]
        }
      ]
    },
    {
      "cell_type": "code",
      "source": [
        "count = CountVectorizer(analyzer = 'char',ngram_range=(1,3))\n",
        "\n",
        "pipeline = Pipeline([\n",
        "   ('vectorizer',count),\n",
        "   ('model',ComplementNB())\n",
        "])\n",
        "pipeline.fit(X_train,Y_train)\n",
        "Y_pred = pipeline.predict(X_test)\n",
        "\n",
        "print(classification_report(Y_test,Y_pred))\n",
        "\n",
        "accuracy = accuracy_score(Y_test, Y_pred)\n",
        "print(\"Accuracy:\", accuracy)"
      ],
      "metadata": {
        "colab": {
          "base_uri": "https://localhost:8080/"
        },
        "id": "h0P0O4u3tzr3",
        "outputId": "b910d7e3-60bc-41a0-a0e9-90a2a3255820"
      },
      "execution_count": 42,
      "outputs": [
        {
          "output_type": "stream",
          "name": "stdout",
          "text": [
            "              precision    recall  f1-score   support\n",
            "\n",
            "         ach       1.00      0.99      0.99      7826\n",
            "         eng       0.98      1.00      0.99      7783\n",
            "         lgg       1.00      1.00      1.00      8089\n",
            "         lug       0.99      0.99      0.99      7799\n",
            "         nyn       1.00      0.99      0.99      7967\n",
            "         teo       1.00      1.00      1.00      7952\n",
            "\n",
            "    accuracy                           0.99     47416\n",
            "   macro avg       0.99      0.99      0.99     47416\n",
            "weighted avg       0.99      0.99      0.99     47416\n",
            "\n",
            "Accuracy: 0.993377762780496\n"
          ]
        }
      ]
    },
    {
      "cell_type": "markdown",
      "source": [
        "Multinomial showed highest accuracy out of the three different Naive Bayes models"
      ],
      "metadata": {
        "id": "xkZe4vrhw4KZ"
      }
    },
    {
      "cell_type": "code",
      "source": [],
      "metadata": {
        "id": "bFjlrDjfxGf4"
      },
      "execution_count": null,
      "outputs": []
    }
  ]
}