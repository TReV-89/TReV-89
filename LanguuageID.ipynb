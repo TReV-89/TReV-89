{
  "nbformat": 4,
  "nbformat_minor": 0,
  "metadata": {
    "colab": {
      "provenance": [],
      "mount_file_id": "https://github.com/TReV-89/TReV-89/blob/main/LanguuageID.ipynb",
      "authorship_tag": "ABX9TyP7d9NZ0BBdZoxnjVS1C3nb",
      "include_colab_link": true
    },
    "kernelspec": {
      "name": "python3",
      "display_name": "Python 3"
    },
    "language_info": {
      "name": "python"
    }
  },
  "cells": [
    {
      "cell_type": "markdown",
      "metadata": {
        "id": "view-in-github",
        "colab_type": "text"
      },
      "source": [
        "<a href=\"https://colab.research.google.com/github/TReV-89/TReV-89/blob/main/LanguuageID.ipynb\" target=\"_parent\"><img src=\"https://colab.research.google.com/assets/colab-badge.svg\" alt=\"Open In Colab\"/></a>"
      ]
    },
    {
      "cell_type": "markdown",
      "source": [
        "LANGUAGE MODEL USING NAIVE BAYES ALGORITHM N-GRAMS"
      ],
      "metadata": {
        "id": "SfPt_Wb-_VgI"
      }
    },
    {
      "cell_type": "code",
      "execution_count": 1,
      "metadata": {
        "id": "A30h-OFO3FOf"
      },
      "outputs": [],
      "source": [
        "import numpy as np\n",
        "import pandas as pd\n",
        "from sklearn.model_selection import train_test_split\n",
        "from sklearn.pipeline import Pipeline\n",
        "from sklearn.naive_bayes import MultinomialNB, ComplementNB, BernoulliNB\n",
        "from sklearn.feature_extraction.text import CountVectorizer\n",
        "from sklearn.metrics import classification_report,accuracy_score"
      ]
    },
    {
      "cell_type": "code",
      "source": [
        "df = pd.read_json(\"/content/drive/MyDrive/salt-train-v1.2.jsonl\", lines = True)\n",
        "df.pop(\"tts-speech\")\n",
        "data = {\n",
        "    \"language\": [],\n",
        "    \"text\": []\n",
        "}\n",
        "for row in df['text']:\n",
        "    for key, value in row.items():\n",
        "        data[\"language\"].append(key)\n",
        "        data[\"text\"].append(value)\n",
        "df1 = pd.DataFrame(data,columns = ['language','text'])\n",
        "df1.head()"
      ],
      "metadata": {
        "id": "4zvtSQz_5YCl",
        "colab": {
          "base_uri": "https://localhost:8080/",
          "height": 206
        },
        "outputId": "71a874df-a4fb-4852-987d-281c1bfc9f77"
      },
      "execution_count": 2,
      "outputs": [
        {
          "output_type": "execute_result",
          "data": {
            "text/plain": [
              "  language                                               text\n",
              "0      eng                   It was not a ghost refugee camp.\n",
              "1      lug  Enkambi y'abanoonyiboobubudamu teyaliiwo mu bu...\n",
              "2      ach                             Pe obedo kem goba goba\n",
              "3      teo                      Mam arai ekabi lo erai ekwam.\n",
              "4      lgg  Eri aa'ni ndra kembe emunyale eyini aa'zu inzo..."
            ],
            "text/html": [
              "\n",
              "\n",
              "  <div id=\"df-7aed4865-2119-4d96-8c6d-90a868b1cb7e\">\n",
              "    <div class=\"colab-df-container\">\n",
              "      <div>\n",
              "<style scoped>\n",
              "    .dataframe tbody tr th:only-of-type {\n",
              "        vertical-align: middle;\n",
              "    }\n",
              "\n",
              "    .dataframe tbody tr th {\n",
              "        vertical-align: top;\n",
              "    }\n",
              "\n",
              "    .dataframe thead th {\n",
              "        text-align: right;\n",
              "    }\n",
              "</style>\n",
              "<table border=\"1\" class=\"dataframe\">\n",
              "  <thead>\n",
              "    <tr style=\"text-align: right;\">\n",
              "      <th></th>\n",
              "      <th>language</th>\n",
              "      <th>text</th>\n",
              "    </tr>\n",
              "  </thead>\n",
              "  <tbody>\n",
              "    <tr>\n",
              "      <th>0</th>\n",
              "      <td>eng</td>\n",
              "      <td>It was not a ghost refugee camp.</td>\n",
              "    </tr>\n",
              "    <tr>\n",
              "      <th>1</th>\n",
              "      <td>lug</td>\n",
              "      <td>Enkambi y'abanoonyiboobubudamu teyaliiwo mu bu...</td>\n",
              "    </tr>\n",
              "    <tr>\n",
              "      <th>2</th>\n",
              "      <td>ach</td>\n",
              "      <td>Pe obedo kem goba goba</td>\n",
              "    </tr>\n",
              "    <tr>\n",
              "      <th>3</th>\n",
              "      <td>teo</td>\n",
              "      <td>Mam arai ekabi lo erai ekwam.</td>\n",
              "    </tr>\n",
              "    <tr>\n",
              "      <th>4</th>\n",
              "      <td>lgg</td>\n",
              "      <td>Eri aa'ni ndra kembe emunyale eyini aa'zu inzo...</td>\n",
              "    </tr>\n",
              "  </tbody>\n",
              "</table>\n",
              "</div>\n",
              "      <button class=\"colab-df-convert\" onclick=\"convertToInteractive('df-7aed4865-2119-4d96-8c6d-90a868b1cb7e')\"\n",
              "              title=\"Convert this dataframe to an interactive table.\"\n",
              "              style=\"display:none;\">\n",
              "\n",
              "  <svg xmlns=\"http://www.w3.org/2000/svg\" height=\"24px\"viewBox=\"0 0 24 24\"\n",
              "       width=\"24px\">\n",
              "    <path d=\"M0 0h24v24H0V0z\" fill=\"none\"/>\n",
              "    <path d=\"M18.56 5.44l.94 2.06.94-2.06 2.06-.94-2.06-.94-.94-2.06-.94 2.06-2.06.94zm-11 1L8.5 8.5l.94-2.06 2.06-.94-2.06-.94L8.5 2.5l-.94 2.06-2.06.94zm10 10l.94 2.06.94-2.06 2.06-.94-2.06-.94-.94-2.06-.94 2.06-2.06.94z\"/><path d=\"M17.41 7.96l-1.37-1.37c-.4-.4-.92-.59-1.43-.59-.52 0-1.04.2-1.43.59L10.3 9.45l-7.72 7.72c-.78.78-.78 2.05 0 2.83L4 21.41c.39.39.9.59 1.41.59.51 0 1.02-.2 1.41-.59l7.78-7.78 2.81-2.81c.8-.78.8-2.07 0-2.86zM5.41 20L4 18.59l7.72-7.72 1.47 1.35L5.41 20z\"/>\n",
              "  </svg>\n",
              "      </button>\n",
              "\n",
              "\n",
              "\n",
              "    <div id=\"df-3b86f663-341e-4ed9-82dc-18374e99c316\">\n",
              "      <button class=\"colab-df-quickchart\" onclick=\"quickchart('df-3b86f663-341e-4ed9-82dc-18374e99c316')\"\n",
              "              title=\"Suggest charts.\"\n",
              "              style=\"display:none;\">\n",
              "\n",
              "<svg xmlns=\"http://www.w3.org/2000/svg\" height=\"24px\"viewBox=\"0 0 24 24\"\n",
              "     width=\"24px\">\n",
              "    <g>\n",
              "        <path d=\"M19 3H5c-1.1 0-2 .9-2 2v14c0 1.1.9 2 2 2h14c1.1 0 2-.9 2-2V5c0-1.1-.9-2-2-2zM9 17H7v-7h2v7zm4 0h-2V7h2v10zm4 0h-2v-4h2v4z\"/>\n",
              "    </g>\n",
              "</svg>\n",
              "      </button>\n",
              "    </div>\n",
              "\n",
              "<style>\n",
              "  .colab-df-quickchart {\n",
              "    background-color: #E8F0FE;\n",
              "    border: none;\n",
              "    border-radius: 50%;\n",
              "    cursor: pointer;\n",
              "    display: none;\n",
              "    fill: #1967D2;\n",
              "    height: 32px;\n",
              "    padding: 0 0 0 0;\n",
              "    width: 32px;\n",
              "  }\n",
              "\n",
              "  .colab-df-quickchart:hover {\n",
              "    background-color: #E2EBFA;\n",
              "    box-shadow: 0px 1px 2px rgba(60, 64, 67, 0.3), 0px 1px 3px 1px rgba(60, 64, 67, 0.15);\n",
              "    fill: #174EA6;\n",
              "  }\n",
              "\n",
              "  [theme=dark] .colab-df-quickchart {\n",
              "    background-color: #3B4455;\n",
              "    fill: #D2E3FC;\n",
              "  }\n",
              "\n",
              "  [theme=dark] .colab-df-quickchart:hover {\n",
              "    background-color: #434B5C;\n",
              "    box-shadow: 0px 1px 3px 1px rgba(0, 0, 0, 0.15);\n",
              "    filter: drop-shadow(0px 1px 2px rgba(0, 0, 0, 0.3));\n",
              "    fill: #FFFFFF;\n",
              "  }\n",
              "</style>\n",
              "\n",
              "    <script>\n",
              "      async function quickchart(key) {\n",
              "        const containerElement = document.querySelector('#' + key);\n",
              "        const charts = await google.colab.kernel.invokeFunction(\n",
              "            'suggestCharts', [key], {});\n",
              "      }\n",
              "    </script>\n",
              "\n",
              "      <script>\n",
              "\n",
              "function displayQuickchartButton(domScope) {\n",
              "  let quickchartButtonEl =\n",
              "    domScope.querySelector('#df-3b86f663-341e-4ed9-82dc-18374e99c316 button.colab-df-quickchart');\n",
              "  quickchartButtonEl.style.display =\n",
              "    google.colab.kernel.accessAllowed ? 'block' : 'none';\n",
              "}\n",
              "\n",
              "        displayQuickchartButton(document);\n",
              "      </script>\n",
              "      <style>\n",
              "    .colab-df-container {\n",
              "      display:flex;\n",
              "      flex-wrap:wrap;\n",
              "      gap: 12px;\n",
              "    }\n",
              "\n",
              "    .colab-df-convert {\n",
              "      background-color: #E8F0FE;\n",
              "      border: none;\n",
              "      border-radius: 50%;\n",
              "      cursor: pointer;\n",
              "      display: none;\n",
              "      fill: #1967D2;\n",
              "      height: 32px;\n",
              "      padding: 0 0 0 0;\n",
              "      width: 32px;\n",
              "    }\n",
              "\n",
              "    .colab-df-convert:hover {\n",
              "      background-color: #E2EBFA;\n",
              "      box-shadow: 0px 1px 2px rgba(60, 64, 67, 0.3), 0px 1px 3px 1px rgba(60, 64, 67, 0.15);\n",
              "      fill: #174EA6;\n",
              "    }\n",
              "\n",
              "    [theme=dark] .colab-df-convert {\n",
              "      background-color: #3B4455;\n",
              "      fill: #D2E3FC;\n",
              "    }\n",
              "\n",
              "    [theme=dark] .colab-df-convert:hover {\n",
              "      background-color: #434B5C;\n",
              "      box-shadow: 0px 1px 3px 1px rgba(0, 0, 0, 0.15);\n",
              "      filter: drop-shadow(0px 1px 2px rgba(0, 0, 0, 0.3));\n",
              "      fill: #FFFFFF;\n",
              "    }\n",
              "  </style>\n",
              "\n",
              "      <script>\n",
              "        const buttonEl =\n",
              "          document.querySelector('#df-7aed4865-2119-4d96-8c6d-90a868b1cb7e button.colab-df-convert');\n",
              "        buttonEl.style.display =\n",
              "          google.colab.kernel.accessAllowed ? 'block' : 'none';\n",
              "\n",
              "        async function convertToInteractive(key) {\n",
              "          const element = document.querySelector('#df-7aed4865-2119-4d96-8c6d-90a868b1cb7e');\n",
              "          const dataTable =\n",
              "            await google.colab.kernel.invokeFunction('convertToInteractive',\n",
              "                                                     [key], {});\n",
              "          if (!dataTable) return;\n",
              "\n",
              "          const docLinkHtml = 'Like what you see? Visit the ' +\n",
              "            '<a target=\"_blank\" href=https://colab.research.google.com/notebooks/data_table.ipynb>data table notebook</a>'\n",
              "            + ' to learn more about interactive tables.';\n",
              "          element.innerHTML = '';\n",
              "          dataTable['output_type'] = 'display_data';\n",
              "          await google.colab.output.renderOutput(dataTable, element);\n",
              "          const docLink = document.createElement('div');\n",
              "          docLink.innerHTML = docLinkHtml;\n",
              "          element.appendChild(docLink);\n",
              "        }\n",
              "      </script>\n",
              "    </div>\n",
              "  </div>\n"
            ]
          },
          "metadata": {},
          "execution_count": 2
        }
      ]
    },
    {
      "cell_type": "code",
      "source": [
        "X = df1['text']\n",
        "Y = df1['language']\n",
        "X_train, X_test, Y_train, Y_test = train_test_split(X, Y, test_size=0.33, random_state=42)\n"
      ],
      "metadata": {
        "id": "A2h6fuV3Xr1U"
      },
      "execution_count": 3,
      "outputs": []
    },
    {
      "cell_type": "markdown",
      "source": [
        "DEPLOY COUNTVECTORIZER AND PIPELINE FUNCTIONS TO BUILD AND TRAIN MODELS FOR MULTINOMIAL_NB, BERNOULLI_NB & COMPLEMENT_NB MODELS"
      ],
      "metadata": {
        "id": "39sQqyz9zOfW"
      }
    },
    {
      "cell_type": "code",
      "source": [
        "count = CountVectorizer(analyzer = 'char',ngram_range=(2,6))\n",
        "\n",
        "pipeline_MultinomialNB = Pipeline([\n",
        "   ('vectorizer',count),\n",
        "   ('model',MultinomialNB())\n",
        "])\n",
        "pipeline_MultinomialNB.fit(X_train,Y_train)\n",
        "Y_pred = pipeline_MultinomialNB.predict(X_test)\n",
        "\n",
        "print(classification_report(Y_test,Y_pred))\n",
        "\n",
        "accuracy = accuracy_score(Y_test, Y_pred)\n",
        "print(\"Accuracy:\", accuracy)"
      ],
      "metadata": {
        "colab": {
          "base_uri": "https://localhost:8080/"
        },
        "id": "-yR614bJqMBA",
        "outputId": "7284a4ce-72d4-4c8d-a511-cb03443cd515"
      },
      "execution_count": 4,
      "outputs": [
        {
          "output_type": "stream",
          "name": "stdout",
          "text": [
            "              precision    recall  f1-score   support\n",
            "\n",
            "         ach       1.00      1.00      1.00      7826\n",
            "         eng       1.00      1.00      1.00      7783\n",
            "         lgg       1.00      1.00      1.00      8089\n",
            "         lug       1.00      1.00      1.00      7799\n",
            "         nyn       1.00      1.00      1.00      7967\n",
            "         teo       1.00      1.00      1.00      7952\n",
            "\n",
            "    accuracy                           1.00     47416\n",
            "   macro avg       1.00      1.00      1.00     47416\n",
            "weighted avg       1.00      1.00      1.00     47416\n",
            "\n",
            "Accuracy: 0.9992407626117766\n"
          ]
        }
      ]
    },
    {
      "cell_type": "markdown",
      "source": [
        "ACCURACY FOR MULTINOMIAL_NB IS 99.924% USING NGRAM_RANGE OF 2-6"
      ],
      "metadata": {
        "id": "03UpT1l0zret"
      }
    },
    {
      "cell_type": "code",
      "source": [
        "count = CountVectorizer(analyzer = 'char',ngram_range=(2,4))\n",
        "\n",
        "pipeline_BernoulliNB = Pipeline([\n",
        "   ('vectorizer',count),\n",
        "   ('model',BernoulliNB())\n",
        "])\n",
        "pipeline_BernoulliNB.fit(X_train,Y_train)\n",
        "Y_pred = pipeline_BernoulliNB.predict(X_test)\n",
        "\n",
        "print(classification_report(Y_test,Y_pred))\n",
        "\n",
        "accuracy = accuracy_score(Y_test, Y_pred)\n",
        "print(\"Accuracy:\", accuracy)"
      ],
      "metadata": {
        "id": "yCmOhoLNnVul",
        "colab": {
          "base_uri": "https://localhost:8080/"
        },
        "outputId": "07e61281-0fff-47dc-e858-e53c3ece159f"
      },
      "execution_count": 5,
      "outputs": [
        {
          "output_type": "stream",
          "name": "stdout",
          "text": [
            "              precision    recall  f1-score   support\n",
            "\n",
            "         ach       1.00      1.00      1.00      7826\n",
            "         eng       1.00      1.00      1.00      7783\n",
            "         lgg       1.00      1.00      1.00      8089\n",
            "         lug       1.00      1.00      1.00      7799\n",
            "         nyn       1.00      1.00      1.00      7967\n",
            "         teo       1.00      1.00      1.00      7952\n",
            "\n",
            "    accuracy                           1.00     47416\n",
            "   macro avg       1.00      1.00      1.00     47416\n",
            "weighted avg       1.00      1.00      1.00     47416\n",
            "\n",
            "Accuracy: 0.9988611439176649\n"
          ]
        }
      ]
    },
    {
      "cell_type": "markdown",
      "source": [
        "ACCURACY FOR BERNOULLI_NB IS 99.886% USING NGRAM_RANGE OF 2-4"
      ],
      "metadata": {
        "id": "DKpSLmXw0GB8"
      }
    },
    {
      "cell_type": "code",
      "source": [
        "count = CountVectorizer(analyzer = 'char',ngram_range=(2,7))\n",
        "\n",
        "pipeline_ComplementNB = Pipeline([\n",
        "   ('vectorizer',count),\n",
        "   ('model',ComplementNB())\n",
        "])\n",
        "pipeline_ComplementNB.fit(X_train,Y_train)\n",
        "Y_pred = pipeline_ComplementNB.predict(X_test)\n",
        "\n",
        "print(classification_report(Y_test,Y_pred))\n",
        "\n",
        "accuracy = accuracy_score(Y_test, Y_pred)\n",
        "print(\"Accuracy:\", accuracy)"
      ],
      "metadata": {
        "colab": {
          "base_uri": "https://localhost:8080/"
        },
        "id": "h0P0O4u3tzr3",
        "outputId": "f0d8d1e1-235e-4d11-ef3c-d4c6275a1404"
      },
      "execution_count": 6,
      "outputs": [
        {
          "output_type": "stream",
          "name": "stdout",
          "text": [
            "              precision    recall  f1-score   support\n",
            "\n",
            "         ach       1.00      1.00      1.00      7826\n",
            "         eng       1.00      1.00      1.00      7783\n",
            "         lgg       1.00      1.00      1.00      8089\n",
            "         lug       1.00      1.00      1.00      7799\n",
            "         nyn       1.00      1.00      1.00      7967\n",
            "         teo       1.00      1.00      1.00      7952\n",
            "\n",
            "    accuracy                           1.00     47416\n",
            "   macro avg       1.00      1.00      1.00     47416\n",
            "weighted avg       1.00      1.00      1.00     47416\n",
            "\n",
            "Accuracy: 0.999156402901974\n"
          ]
        }
      ]
    },
    {
      "cell_type": "markdown",
      "source": [
        "ACCURACY FOR COMPLEMENT_NB IS 99.915% USING NGRAM_RANGE OF 2-7"
      ],
      "metadata": {
        "id": "a8-rkM8D2c5X"
      }
    },
    {
      "cell_type": "markdown",
      "source": [
        "TEST MODELS ON SALT TEST DATASET"
      ],
      "metadata": {
        "id": "xkZe4vrhw4KZ"
      }
    },
    {
      "cell_type": "code",
      "source": [
        "df2 = pd.read_json(\"/content/drive/MyDrive/salt-test-v1.2.jsonl\", lines = True)\n",
        "df2.pop(\"tts-speech\")\n",
        "data1 = {\n",
        "    \"language\": [],\n",
        "    \"text\": []\n",
        "}\n",
        "for row in df2['text']:\n",
        "    for key, value in row.items():\n",
        "        data1[\"language\"].append(key)\n",
        "        data1[\"text\"].append(value)\n",
        "df3 = pd.DataFrame(data1,columns = ['language','text'])\n",
        "df3.head()"
      ],
      "metadata": {
        "id": "460kTugVoD18",
        "outputId": "0db6ce9a-d057-461b-e791-17b785c482ad",
        "colab": {
          "base_uri": "https://localhost:8080/",
          "height": 206
        }
      },
      "execution_count": 7,
      "outputs": [
        {
          "output_type": "execute_result",
          "data": {
            "text/plain": [
              "  language                                               text\n",
              "0      eng  The fashion industry is starting to thrive again.\n",
              "1      lug      Ekisaawe ky'emisono kitandise okusituka nate.\n",
              "2      ach  Yub me cital ruk mapatpat manyen tye ka dongo ...\n",
              "3      teo            Ageutu ikampunin luka enape apolo bobo.\n",
              "4      lgg   Okalamvu suta o'diru 'diyini 'diyi 'ye e'do tutu"
            ],
            "text/html": [
              "\n",
              "\n",
              "  <div id=\"df-00fade04-0ca9-42c6-b7ac-f9a74c1102a8\">\n",
              "    <div class=\"colab-df-container\">\n",
              "      <div>\n",
              "<style scoped>\n",
              "    .dataframe tbody tr th:only-of-type {\n",
              "        vertical-align: middle;\n",
              "    }\n",
              "\n",
              "    .dataframe tbody tr th {\n",
              "        vertical-align: top;\n",
              "    }\n",
              "\n",
              "    .dataframe thead th {\n",
              "        text-align: right;\n",
              "    }\n",
              "</style>\n",
              "<table border=\"1\" class=\"dataframe\">\n",
              "  <thead>\n",
              "    <tr style=\"text-align: right;\">\n",
              "      <th></th>\n",
              "      <th>language</th>\n",
              "      <th>text</th>\n",
              "    </tr>\n",
              "  </thead>\n",
              "  <tbody>\n",
              "    <tr>\n",
              "      <th>0</th>\n",
              "      <td>eng</td>\n",
              "      <td>The fashion industry is starting to thrive again.</td>\n",
              "    </tr>\n",
              "    <tr>\n",
              "      <th>1</th>\n",
              "      <td>lug</td>\n",
              "      <td>Ekisaawe ky'emisono kitandise okusituka nate.</td>\n",
              "    </tr>\n",
              "    <tr>\n",
              "      <th>2</th>\n",
              "      <td>ach</td>\n",
              "      <td>Yub me cital ruk mapatpat manyen tye ka dongo ...</td>\n",
              "    </tr>\n",
              "    <tr>\n",
              "      <th>3</th>\n",
              "      <td>teo</td>\n",
              "      <td>Ageutu ikampunin luka enape apolo bobo.</td>\n",
              "    </tr>\n",
              "    <tr>\n",
              "      <th>4</th>\n",
              "      <td>lgg</td>\n",
              "      <td>Okalamvu suta o'diru 'diyini 'diyi 'ye e'do tutu</td>\n",
              "    </tr>\n",
              "  </tbody>\n",
              "</table>\n",
              "</div>\n",
              "      <button class=\"colab-df-convert\" onclick=\"convertToInteractive('df-00fade04-0ca9-42c6-b7ac-f9a74c1102a8')\"\n",
              "              title=\"Convert this dataframe to an interactive table.\"\n",
              "              style=\"display:none;\">\n",
              "\n",
              "  <svg xmlns=\"http://www.w3.org/2000/svg\" height=\"24px\"viewBox=\"0 0 24 24\"\n",
              "       width=\"24px\">\n",
              "    <path d=\"M0 0h24v24H0V0z\" fill=\"none\"/>\n",
              "    <path d=\"M18.56 5.44l.94 2.06.94-2.06 2.06-.94-2.06-.94-.94-2.06-.94 2.06-2.06.94zm-11 1L8.5 8.5l.94-2.06 2.06-.94-2.06-.94L8.5 2.5l-.94 2.06-2.06.94zm10 10l.94 2.06.94-2.06 2.06-.94-2.06-.94-.94-2.06-.94 2.06-2.06.94z\"/><path d=\"M17.41 7.96l-1.37-1.37c-.4-.4-.92-.59-1.43-.59-.52 0-1.04.2-1.43.59L10.3 9.45l-7.72 7.72c-.78.78-.78 2.05 0 2.83L4 21.41c.39.39.9.59 1.41.59.51 0 1.02-.2 1.41-.59l7.78-7.78 2.81-2.81c.8-.78.8-2.07 0-2.86zM5.41 20L4 18.59l7.72-7.72 1.47 1.35L5.41 20z\"/>\n",
              "  </svg>\n",
              "      </button>\n",
              "\n",
              "\n",
              "\n",
              "    <div id=\"df-993d3bde-5249-4ba8-bec1-631c96912211\">\n",
              "      <button class=\"colab-df-quickchart\" onclick=\"quickchart('df-993d3bde-5249-4ba8-bec1-631c96912211')\"\n",
              "              title=\"Suggest charts.\"\n",
              "              style=\"display:none;\">\n",
              "\n",
              "<svg xmlns=\"http://www.w3.org/2000/svg\" height=\"24px\"viewBox=\"0 0 24 24\"\n",
              "     width=\"24px\">\n",
              "    <g>\n",
              "        <path d=\"M19 3H5c-1.1 0-2 .9-2 2v14c0 1.1.9 2 2 2h14c1.1 0 2-.9 2-2V5c0-1.1-.9-2-2-2zM9 17H7v-7h2v7zm4 0h-2V7h2v10zm4 0h-2v-4h2v4z\"/>\n",
              "    </g>\n",
              "</svg>\n",
              "      </button>\n",
              "    </div>\n",
              "\n",
              "<style>\n",
              "  .colab-df-quickchart {\n",
              "    background-color: #E8F0FE;\n",
              "    border: none;\n",
              "    border-radius: 50%;\n",
              "    cursor: pointer;\n",
              "    display: none;\n",
              "    fill: #1967D2;\n",
              "    height: 32px;\n",
              "    padding: 0 0 0 0;\n",
              "    width: 32px;\n",
              "  }\n",
              "\n",
              "  .colab-df-quickchart:hover {\n",
              "    background-color: #E2EBFA;\n",
              "    box-shadow: 0px 1px 2px rgba(60, 64, 67, 0.3), 0px 1px 3px 1px rgba(60, 64, 67, 0.15);\n",
              "    fill: #174EA6;\n",
              "  }\n",
              "\n",
              "  [theme=dark] .colab-df-quickchart {\n",
              "    background-color: #3B4455;\n",
              "    fill: #D2E3FC;\n",
              "  }\n",
              "\n",
              "  [theme=dark] .colab-df-quickchart:hover {\n",
              "    background-color: #434B5C;\n",
              "    box-shadow: 0px 1px 3px 1px rgba(0, 0, 0, 0.15);\n",
              "    filter: drop-shadow(0px 1px 2px rgba(0, 0, 0, 0.3));\n",
              "    fill: #FFFFFF;\n",
              "  }\n",
              "</style>\n",
              "\n",
              "    <script>\n",
              "      async function quickchart(key) {\n",
              "        const containerElement = document.querySelector('#' + key);\n",
              "        const charts = await google.colab.kernel.invokeFunction(\n",
              "            'suggestCharts', [key], {});\n",
              "      }\n",
              "    </script>\n",
              "\n",
              "      <script>\n",
              "\n",
              "function displayQuickchartButton(domScope) {\n",
              "  let quickchartButtonEl =\n",
              "    domScope.querySelector('#df-993d3bde-5249-4ba8-bec1-631c96912211 button.colab-df-quickchart');\n",
              "  quickchartButtonEl.style.display =\n",
              "    google.colab.kernel.accessAllowed ? 'block' : 'none';\n",
              "}\n",
              "\n",
              "        displayQuickchartButton(document);\n",
              "      </script>\n",
              "      <style>\n",
              "    .colab-df-container {\n",
              "      display:flex;\n",
              "      flex-wrap:wrap;\n",
              "      gap: 12px;\n",
              "    }\n",
              "\n",
              "    .colab-df-convert {\n",
              "      background-color: #E8F0FE;\n",
              "      border: none;\n",
              "      border-radius: 50%;\n",
              "      cursor: pointer;\n",
              "      display: none;\n",
              "      fill: #1967D2;\n",
              "      height: 32px;\n",
              "      padding: 0 0 0 0;\n",
              "      width: 32px;\n",
              "    }\n",
              "\n",
              "    .colab-df-convert:hover {\n",
              "      background-color: #E2EBFA;\n",
              "      box-shadow: 0px 1px 2px rgba(60, 64, 67, 0.3), 0px 1px 3px 1px rgba(60, 64, 67, 0.15);\n",
              "      fill: #174EA6;\n",
              "    }\n",
              "\n",
              "    [theme=dark] .colab-df-convert {\n",
              "      background-color: #3B4455;\n",
              "      fill: #D2E3FC;\n",
              "    }\n",
              "\n",
              "    [theme=dark] .colab-df-convert:hover {\n",
              "      background-color: #434B5C;\n",
              "      box-shadow: 0px 1px 3px 1px rgba(0, 0, 0, 0.15);\n",
              "      filter: drop-shadow(0px 1px 2px rgba(0, 0, 0, 0.3));\n",
              "      fill: #FFFFFF;\n",
              "    }\n",
              "  </style>\n",
              "\n",
              "      <script>\n",
              "        const buttonEl =\n",
              "          document.querySelector('#df-00fade04-0ca9-42c6-b7ac-f9a74c1102a8 button.colab-df-convert');\n",
              "        buttonEl.style.display =\n",
              "          google.colab.kernel.accessAllowed ? 'block' : 'none';\n",
              "\n",
              "        async function convertToInteractive(key) {\n",
              "          const element = document.querySelector('#df-00fade04-0ca9-42c6-b7ac-f9a74c1102a8');\n",
              "          const dataTable =\n",
              "            await google.colab.kernel.invokeFunction('convertToInteractive',\n",
              "                                                     [key], {});\n",
              "          if (!dataTable) return;\n",
              "\n",
              "          const docLinkHtml = 'Like what you see? Visit the ' +\n",
              "            '<a target=\"_blank\" href=https://colab.research.google.com/notebooks/data_table.ipynb>data table notebook</a>'\n",
              "            + ' to learn more about interactive tables.';\n",
              "          element.innerHTML = '';\n",
              "          dataTable['output_type'] = 'display_data';\n",
              "          await google.colab.output.renderOutput(dataTable, element);\n",
              "          const docLink = document.createElement('div');\n",
              "          docLink.innerHTML = docLinkHtml;\n",
              "          element.appendChild(docLink);\n",
              "        }\n",
              "      </script>\n",
              "    </div>\n",
              "  </div>\n"
            ]
          },
          "metadata": {},
          "execution_count": 7
        }
      ]
    },
    {
      "cell_type": "code",
      "source": [
        "X = df3['text']\n",
        "Y = df3['language']\n",
        "\n",
        "Y_pred = pipeline_MultinomialNB.predict(X)\n",
        "\n",
        "print(classification_report(Y,Y_pred))\n",
        "\n",
        "accuracy = accuracy_score(Y, Y_pred)\n",
        "print(\"Accuracy:\", accuracy)"
      ],
      "metadata": {
        "id": "yJEF3iISoej8",
        "outputId": "e9354c13-3c0b-4fa4-eb60-4092a184db0e",
        "colab": {
          "base_uri": "https://localhost:8080/"
        }
      },
      "execution_count": 8,
      "outputs": [
        {
          "output_type": "stream",
          "name": "stdout",
          "text": [
            "              precision    recall  f1-score   support\n",
            "\n",
            "         ach       1.00      1.00      1.00       500\n",
            "         eng       1.00      1.00      1.00       500\n",
            "         lgg       1.00      1.00      1.00       500\n",
            "         lug       1.00      1.00      1.00       500\n",
            "         nyn       1.00      1.00      1.00       500\n",
            "         teo       1.00      1.00      1.00       500\n",
            "\n",
            "    accuracy                           1.00      3000\n",
            "   macro avg       1.00      1.00      1.00      3000\n",
            "weighted avg       1.00      1.00      1.00      3000\n",
            "\n",
            "Accuracy: 0.9986666666666667\n"
          ]
        }
      ]
    },
    {
      "cell_type": "markdown",
      "source": [
        "ACCURACY FOR MULTINOMIAL_NB IS 99.867%"
      ],
      "metadata": {
        "id": "znD_kcIZ3FE6"
      }
    },
    {
      "cell_type": "code",
      "source": [
        "Y_pred = pipeline_ComplementNB.predict(X)\n",
        "\n",
        "print(classification_report(Y,Y_pred))\n",
        "\n",
        "accuracy = accuracy_score(Y, Y_pred)\n",
        "print(\"Accuracy:\", accuracy)"
      ],
      "metadata": {
        "id": "wg9mVISFo0Cn",
        "outputId": "69095669-f42d-4431-839a-5674fc8521cd",
        "colab": {
          "base_uri": "https://localhost:8080/"
        }
      },
      "execution_count": 9,
      "outputs": [
        {
          "output_type": "stream",
          "name": "stdout",
          "text": [
            "              precision    recall  f1-score   support\n",
            "\n",
            "         ach       1.00      1.00      1.00       500\n",
            "         eng       1.00      1.00      1.00       500\n",
            "         lgg       1.00      1.00      1.00       500\n",
            "         lug       1.00      1.00      1.00       500\n",
            "         nyn       1.00      1.00      1.00       500\n",
            "         teo       1.00      1.00      1.00       500\n",
            "\n",
            "    accuracy                           1.00      3000\n",
            "   macro avg       1.00      1.00      1.00      3000\n",
            "weighted avg       1.00      1.00      1.00      3000\n",
            "\n",
            "Accuracy: 0.9986666666666667\n"
          ]
        }
      ]
    },
    {
      "cell_type": "markdown",
      "source": [
        "ACCURACY FOR COMPLEMENT_NB IS 99.867%"
      ],
      "metadata": {
        "id": "fYFM_vvp3RnN"
      }
    },
    {
      "cell_type": "code",
      "source": [
        "Y_pred = pipeline_BernoulliNB.predict(X)\n",
        "\n",
        "print(classification_report(Y,Y_pred))\n",
        "\n",
        "accuracy = accuracy_score(Y, Y_pred)\n",
        "print(\"Accuracy:\", accuracy)"
      ],
      "metadata": {
        "id": "ca2L5Ougsi9K",
        "outputId": "e039ea18-85ac-41a9-f263-0c2e1530abed",
        "colab": {
          "base_uri": "https://localhost:8080/"
        }
      },
      "execution_count": 10,
      "outputs": [
        {
          "output_type": "stream",
          "name": "stdout",
          "text": [
            "              precision    recall  f1-score   support\n",
            "\n",
            "         ach       1.00      1.00      1.00       500\n",
            "         eng       1.00      1.00      1.00       500\n",
            "         lgg       1.00      1.00      1.00       500\n",
            "         lug       1.00      1.00      1.00       500\n",
            "         nyn       1.00      1.00      1.00       500\n",
            "         teo       1.00      1.00      1.00       500\n",
            "\n",
            "    accuracy                           1.00      3000\n",
            "   macro avg       1.00      1.00      1.00      3000\n",
            "weighted avg       1.00      1.00      1.00      3000\n",
            "\n",
            "Accuracy: 0.9986666666666667\n"
          ]
        }
      ]
    },
    {
      "cell_type": "markdown",
      "source": [
        "ACCURACY FOR BERNOULLI_NB IS 99.867%"
      ],
      "metadata": {
        "id": "YcP3xR3w3Yn6"
      }
    },
    {
      "cell_type": "markdown",
      "source": [
        "TESTED MODELS ON SAMPLES SENTENCES PROVIDED BY MR. ISAAC\n",
        "\n"
      ],
      "metadata": {
        "id": "iuXL9dAQphpn"
      }
    },
    {
      "cell_type": "code",
      "source": [
        "new_samples = ['I am going to the katale', # eng\n",
        "'Ngenda mu katale', # lug\n",
        "'Uganda', # any\n",
        "'Ekikopo', # lug or nyn\n",
        "'Runyankole', # nyn or lug\n",
        "'Omuntu', # nyn or lug\n",
        "\"Ebigambo by'amagezi\", # lug\n",
        "\"Bw'okoowa\", # lug\n",
        "\"yiga\", # lug\n",
        "\"kubivaako\", # lug\n",
        "\"Mulindeeko tujja kubayita\", # lug\n",
        "\"Gamba Mpurire\", # nyn\n",
        "\"Ekiro twaburayo kimwe kyonka tukajaguza embaga y'omwaka\", # nyn\n",
        "\"Tushangye\", # nyn\n",
        "\"Ekitongore ekya UWA kiriyo nikibangura abanyamakuru kuruga omukyanga ekya Kigezi ahakuhandiika amakuru agakwatiraine n’okurinda enyamaishwa z’omukishaka.\", # nyn\n",
        "\"itye nining\", # ach\n",
        "\"Irii maber, ladit?\", # ach\n",
        "\"Ibuto maber\", # ach\n",
        "\"Ibuto Gulu\", # ach,\n",
        "\"Amito tedo labolo kwon.\", # ach\n",
        "\"Ngo manyen?\", # ach\n",
        "\"Wacito I gang kwan nino ducu\", # ach\n",
        "\"Kumbedi abedo Anaka i Amuru aa ki California i Amerika ento.\" # ach\n",
        "]"
      ],
      "metadata": {
        "id": "sdl9Xu25YTDa"
      },
      "execution_count": 11,
      "outputs": []
    },
    {
      "cell_type": "markdown",
      "source": [
        "FOR THE MULTINOMIALNB MODEL"
      ],
      "metadata": {
        "id": "pzQRJYtTb4IU"
      }
    },
    {
      "cell_type": "code",
      "source": [
        "y_pred_new = pipeline_MultinomialNB.predict(new_samples)\n",
        "\n",
        "for sentence, language in zip(new_samples, y_pred_new):\n",
        "    print(f\"Text: '{sentence}' => Predicted Language: {language}\")"
      ],
      "metadata": {
        "colab": {
          "base_uri": "https://localhost:8080/"
        },
        "id": "IMxgi0H0b2d5",
        "outputId": "5533d68b-1712-484e-9334-34be51caaa9e"
      },
      "execution_count": 12,
      "outputs": [
        {
          "output_type": "stream",
          "name": "stdout",
          "text": [
            "Text: 'I am going to the katale' => Predicted Language: eng\n",
            "Text: 'Ngenda mu katale' => Predicted Language: lug\n",
            "Text: 'Uganda' => Predicted Language: lug\n",
            "Text: 'Ekikopo' => Predicted Language: nyn\n",
            "Text: 'Runyankole' => Predicted Language: lug\n",
            "Text: 'Omuntu' => Predicted Language: nyn\n",
            "Text: 'Ebigambo by'amagezi' => Predicted Language: lug\n",
            "Text: 'Bw'okoowa' => Predicted Language: lug\n",
            "Text: 'yiga' => Predicted Language: lug\n",
            "Text: 'kubivaako' => Predicted Language: lug\n",
            "Text: 'Mulindeeko tujja kubayita' => Predicted Language: lug\n",
            "Text: 'Gamba Mpurire' => Predicted Language: nyn\n",
            "Text: 'Ekiro twaburayo kimwe kyonka tukajaguza embaga y'omwaka' => Predicted Language: nyn\n",
            "Text: 'Tushangye' => Predicted Language: nyn\n",
            "Text: 'Ekitongore ekya UWA kiriyo nikibangura abanyamakuru kuruga omukyanga ekya Kigezi ahakuhandiika amakuru agakwatiraine n’okurinda enyamaishwa z’omukishaka.' => Predicted Language: nyn\n",
            "Text: 'itye nining' => Predicted Language: ach\n",
            "Text: 'Irii maber, ladit?' => Predicted Language: ach\n",
            "Text: 'Ibuto maber' => Predicted Language: ach\n",
            "Text: 'Ibuto Gulu' => Predicted Language: ach\n",
            "Text: 'Amito tedo labolo kwon.' => Predicted Language: ach\n",
            "Text: 'Ngo manyen?' => Predicted Language: ach\n",
            "Text: 'Wacito I gang kwan nino ducu' => Predicted Language: ach\n",
            "Text: 'Kumbedi abedo Anaka i Amuru aa ki California i Amerika ento.' => Predicted Language: ach\n"
          ]
        }
      ]
    },
    {
      "cell_type": "markdown",
      "source": [
        "DECTECTED ALL LANGUAGES"
      ],
      "metadata": {
        "id": "GvK6ua523y-i"
      }
    },
    {
      "cell_type": "markdown",
      "source": [
        "FOR THE BERNOUILLINB MODEL"
      ],
      "metadata": {
        "id": "-BJA3WwpwHtq"
      }
    },
    {
      "cell_type": "code",
      "source": [
        "y_pred_new = pipeline_BernoulliNB.predict(new_samples)\n",
        "\n",
        "for sentence, language in zip(new_samples, y_pred_new):\n",
        "    print(f\"Text: '{sentence}' => Predicted Language: {language}\")"
      ],
      "metadata": {
        "colab": {
          "base_uri": "https://localhost:8080/"
        },
        "id": "Q0RxQqUib2Ov",
        "outputId": "55e24ab6-feaa-41ca-bb29-e44a6f9142ac"
      },
      "execution_count": 13,
      "outputs": [
        {
          "output_type": "stream",
          "name": "stdout",
          "text": [
            "Text: 'I am going to the katale' => Predicted Language: eng\n",
            "Text: 'Ngenda mu katale' => Predicted Language: lug\n",
            "Text: 'Uganda' => Predicted Language: ach\n",
            "Text: 'Ekikopo' => Predicted Language: teo\n",
            "Text: 'Runyankole' => Predicted Language: lug\n",
            "Text: 'Omuntu' => Predicted Language: lug\n",
            "Text: 'Ebigambo by'amagezi' => Predicted Language: lug\n",
            "Text: 'Bw'okoowa' => Predicted Language: lug\n",
            "Text: 'yiga' => Predicted Language: ach\n",
            "Text: 'kubivaako' => Predicted Language: lug\n",
            "Text: 'Mulindeeko tujja kubayita' => Predicted Language: lug\n",
            "Text: 'Gamba Mpurire' => Predicted Language: nyn\n",
            "Text: 'Ekiro twaburayo kimwe kyonka tukajaguza embaga y'omwaka' => Predicted Language: nyn\n",
            "Text: 'Tushangye' => Predicted Language: nyn\n",
            "Text: 'Ekitongore ekya UWA kiriyo nikibangura abanyamakuru kuruga omukyanga ekya Kigezi ahakuhandiika amakuru agakwatiraine n’okurinda enyamaishwa z’omukishaka.' => Predicted Language: nyn\n",
            "Text: 'itye nining' => Predicted Language: ach\n",
            "Text: 'Irii maber, ladit?' => Predicted Language: ach\n",
            "Text: 'Ibuto maber' => Predicted Language: ach\n",
            "Text: 'Ibuto Gulu' => Predicted Language: ach\n",
            "Text: 'Amito tedo labolo kwon.' => Predicted Language: ach\n",
            "Text: 'Ngo manyen?' => Predicted Language: ach\n",
            "Text: 'Wacito I gang kwan nino ducu' => Predicted Language: ach\n",
            "Text: 'Kumbedi abedo Anaka i Amuru aa ki California i Amerika ento.' => Predicted Language: ach\n"
          ]
        }
      ]
    },
    {
      "cell_type": "markdown",
      "source": [
        "FAILED TO DETECTED \"EKIKOPO\" & \"YIGA\""
      ],
      "metadata": {
        "id": "qAD0v30F39Y6"
      }
    },
    {
      "cell_type": "code",
      "source": [
        "y_pred_new = pipeline_ComplementNB.predict(new_samples)\n",
        "\n",
        "for sentence, language in zip(new_samples, y_pred_new):\n",
        "    print(f\"Text: '{sentence}' => Predicted Language: {language}\")"
      ],
      "metadata": {
        "colab": {
          "base_uri": "https://localhost:8080/"
        },
        "id": "GyJckH7_hwUk",
        "outputId": "5479cf5a-f61f-4467-c1a6-8ed770ee3fe0"
      },
      "execution_count": 14,
      "outputs": [
        {
          "output_type": "stream",
          "name": "stdout",
          "text": [
            "Text: 'I am going to the katale' => Predicted Language: eng\n",
            "Text: 'Ngenda mu katale' => Predicted Language: lug\n",
            "Text: 'Uganda' => Predicted Language: lug\n",
            "Text: 'Ekikopo' => Predicted Language: lug\n",
            "Text: 'Runyankole' => Predicted Language: lug\n",
            "Text: 'Omuntu' => Predicted Language: nyn\n",
            "Text: 'Ebigambo by'amagezi' => Predicted Language: lug\n",
            "Text: 'Bw'okoowa' => Predicted Language: lug\n",
            "Text: 'yiga' => Predicted Language: lug\n",
            "Text: 'kubivaako' => Predicted Language: lug\n",
            "Text: 'Mulindeeko tujja kubayita' => Predicted Language: lug\n",
            "Text: 'Gamba Mpurire' => Predicted Language: nyn\n",
            "Text: 'Ekiro twaburayo kimwe kyonka tukajaguza embaga y'omwaka' => Predicted Language: nyn\n",
            "Text: 'Tushangye' => Predicted Language: nyn\n",
            "Text: 'Ekitongore ekya UWA kiriyo nikibangura abanyamakuru kuruga omukyanga ekya Kigezi ahakuhandiika amakuru agakwatiraine n’okurinda enyamaishwa z’omukishaka.' => Predicted Language: nyn\n",
            "Text: 'itye nining' => Predicted Language: ach\n",
            "Text: 'Irii maber, ladit?' => Predicted Language: ach\n",
            "Text: 'Ibuto maber' => Predicted Language: ach\n",
            "Text: 'Ibuto Gulu' => Predicted Language: ach\n",
            "Text: 'Amito tedo labolo kwon.' => Predicted Language: ach\n",
            "Text: 'Ngo manyen?' => Predicted Language: ach\n",
            "Text: 'Wacito I gang kwan nino ducu' => Predicted Language: ach\n",
            "Text: 'Kumbedi abedo Anaka i Amuru aa ki California i Amerika ento.' => Predicted Language: ach\n"
          ]
        }
      ]
    },
    {
      "cell_type": "markdown",
      "source": [
        "DETECTED ALL LANGUAGES"
      ],
      "metadata": {
        "id": "ec7FyptK4GDt"
      }
    }
  ]
}