{
  "nbformat": 4,
  "nbformat_minor": 0,
  "metadata": {
    "colab": {
      "provenance": [],
      "mount_file_id": "https://github.com/TReV-89/TReV-89/blob/main/LanguuageID.ipynb",
      "authorship_tag": "ABX9TyM3O+TY/Pm7mtJGbmyrPAHe",
      "include_colab_link": true
    },
    "kernelspec": {
      "name": "python3",
      "display_name": "Python 3"
    },
    "language_info": {
      "name": "python"
    }
  },
  "cells": [
    {
      "cell_type": "markdown",
      "metadata": {
        "id": "view-in-github",
        "colab_type": "text"
      },
      "source": [
        "<a href=\"https://colab.research.google.com/github/TReV-89/TReV-89/blob/main/LanguuageID.ipynb\" target=\"_parent\"><img src=\"https://colab.research.google.com/assets/colab-badge.svg\" alt=\"Open In Colab\"/></a>"
      ]
    },
    {
      "cell_type": "markdown",
      "source": [
        "LANGUAGE MODEL USING NAIVE BAYES ALGORITHM N-GRAMS"
      ],
      "metadata": {
        "id": "SfPt_Wb-_VgI"
      }
    },
    {
      "cell_type": "code",
      "execution_count": 1,
      "metadata": {
        "id": "A30h-OFO3FOf"
      },
      "outputs": [],
      "source": [
        "import numpy as np\n",
        "import pandas as pd\n",
        "from sklearn.model_selection import train_test_split\n",
        "from sklearn.pipeline import Pipeline\n",
        "from sklearn.naive_bayes import MultinomialNB, ComplementNB, BernoulliNB\n",
        "from sklearn.feature_extraction.text import CountVectorizer\n",
        "from sklearn.metrics import classification_report,accuracy_score, confusion_matrix"
      ]
    },
    {
      "cell_type": "code",
      "source": [
        "df = pd.read_json(\"/content/drive/MyDrive/salt-train-v1.2.jsonl\", lines = True)\n",
        "df.pop(\"tts-speech\")\n",
        "data = {\n",
        "    \"language\": [],\n",
        "    \"text\": []\n",
        "}\n",
        "for row in df['text']:\n",
        "    for key, value in row.items():\n",
        "        data[\"language\"].append(key)\n",
        "        data[\"text\"].append(value)\n",
        "df1 = pd.DataFrame(data,columns = ['language','text'])\n",
        "df1.head()\n"
      ],
      "metadata": {
        "id": "4zvtSQz_5YCl",
        "colab": {
          "base_uri": "https://localhost:8080/",
          "height": 206
        },
        "outputId": "ca314b78-be36-472d-fb8b-ac4ce51c4102"
      },
      "execution_count": 2,
      "outputs": [
        {
          "output_type": "execute_result",
          "data": {
            "text/plain": [
              "  language                                               text\n",
              "0      eng                   It was not a ghost refugee camp.\n",
              "1      lug  Enkambi y'abanoonyiboobubudamu teyaliiwo mu bu...\n",
              "2      ach                             Pe obedo kem goba goba\n",
              "3      teo                      Mam arai ekabi lo erai ekwam.\n",
              "4      lgg  Eri aa'ni ndra kembe emunyale eyini aa'zu inzo..."
            ],
            "text/html": [
              "\n",
              "\n",
              "  <div id=\"df-625ebc6b-f29a-4b6e-a030-fc33dd782eb2\">\n",
              "    <div class=\"colab-df-container\">\n",
              "      <div>\n",
              "<style scoped>\n",
              "    .dataframe tbody tr th:only-of-type {\n",
              "        vertical-align: middle;\n",
              "    }\n",
              "\n",
              "    .dataframe tbody tr th {\n",
              "        vertical-align: top;\n",
              "    }\n",
              "\n",
              "    .dataframe thead th {\n",
              "        text-align: right;\n",
              "    }\n",
              "</style>\n",
              "<table border=\"1\" class=\"dataframe\">\n",
              "  <thead>\n",
              "    <tr style=\"text-align: right;\">\n",
              "      <th></th>\n",
              "      <th>language</th>\n",
              "      <th>text</th>\n",
              "    </tr>\n",
              "  </thead>\n",
              "  <tbody>\n",
              "    <tr>\n",
              "      <th>0</th>\n",
              "      <td>eng</td>\n",
              "      <td>It was not a ghost refugee camp.</td>\n",
              "    </tr>\n",
              "    <tr>\n",
              "      <th>1</th>\n",
              "      <td>lug</td>\n",
              "      <td>Enkambi y'abanoonyiboobubudamu teyaliiwo mu bu...</td>\n",
              "    </tr>\n",
              "    <tr>\n",
              "      <th>2</th>\n",
              "      <td>ach</td>\n",
              "      <td>Pe obedo kem goba goba</td>\n",
              "    </tr>\n",
              "    <tr>\n",
              "      <th>3</th>\n",
              "      <td>teo</td>\n",
              "      <td>Mam arai ekabi lo erai ekwam.</td>\n",
              "    </tr>\n",
              "    <tr>\n",
              "      <th>4</th>\n",
              "      <td>lgg</td>\n",
              "      <td>Eri aa'ni ndra kembe emunyale eyini aa'zu inzo...</td>\n",
              "    </tr>\n",
              "  </tbody>\n",
              "</table>\n",
              "</div>\n",
              "      <button class=\"colab-df-convert\" onclick=\"convertToInteractive('df-625ebc6b-f29a-4b6e-a030-fc33dd782eb2')\"\n",
              "              title=\"Convert this dataframe to an interactive table.\"\n",
              "              style=\"display:none;\">\n",
              "\n",
              "  <svg xmlns=\"http://www.w3.org/2000/svg\" height=\"24px\"viewBox=\"0 0 24 24\"\n",
              "       width=\"24px\">\n",
              "    <path d=\"M0 0h24v24H0V0z\" fill=\"none\"/>\n",
              "    <path d=\"M18.56 5.44l.94 2.06.94-2.06 2.06-.94-2.06-.94-.94-2.06-.94 2.06-2.06.94zm-11 1L8.5 8.5l.94-2.06 2.06-.94-2.06-.94L8.5 2.5l-.94 2.06-2.06.94zm10 10l.94 2.06.94-2.06 2.06-.94-2.06-.94-.94-2.06-.94 2.06-2.06.94z\"/><path d=\"M17.41 7.96l-1.37-1.37c-.4-.4-.92-.59-1.43-.59-.52 0-1.04.2-1.43.59L10.3 9.45l-7.72 7.72c-.78.78-.78 2.05 0 2.83L4 21.41c.39.39.9.59 1.41.59.51 0 1.02-.2 1.41-.59l7.78-7.78 2.81-2.81c.8-.78.8-2.07 0-2.86zM5.41 20L4 18.59l7.72-7.72 1.47 1.35L5.41 20z\"/>\n",
              "  </svg>\n",
              "      </button>\n",
              "\n",
              "\n",
              "\n",
              "    <div id=\"df-5b2baa0d-d3c3-473c-9c16-fe92fa930d92\">\n",
              "      <button class=\"colab-df-quickchart\" onclick=\"quickchart('df-5b2baa0d-d3c3-473c-9c16-fe92fa930d92')\"\n",
              "              title=\"Suggest charts.\"\n",
              "              style=\"display:none;\">\n",
              "\n",
              "<svg xmlns=\"http://www.w3.org/2000/svg\" height=\"24px\"viewBox=\"0 0 24 24\"\n",
              "     width=\"24px\">\n",
              "    <g>\n",
              "        <path d=\"M19 3H5c-1.1 0-2 .9-2 2v14c0 1.1.9 2 2 2h14c1.1 0 2-.9 2-2V5c0-1.1-.9-2-2-2zM9 17H7v-7h2v7zm4 0h-2V7h2v10zm4 0h-2v-4h2v4z\"/>\n",
              "    </g>\n",
              "</svg>\n",
              "      </button>\n",
              "    </div>\n",
              "\n",
              "<style>\n",
              "  .colab-df-quickchart {\n",
              "    background-color: #E8F0FE;\n",
              "    border: none;\n",
              "    border-radius: 50%;\n",
              "    cursor: pointer;\n",
              "    display: none;\n",
              "    fill: #1967D2;\n",
              "    height: 32px;\n",
              "    padding: 0 0 0 0;\n",
              "    width: 32px;\n",
              "  }\n",
              "\n",
              "  .colab-df-quickchart:hover {\n",
              "    background-color: #E2EBFA;\n",
              "    box-shadow: 0px 1px 2px rgba(60, 64, 67, 0.3), 0px 1px 3px 1px rgba(60, 64, 67, 0.15);\n",
              "    fill: #174EA6;\n",
              "  }\n",
              "\n",
              "  [theme=dark] .colab-df-quickchart {\n",
              "    background-color: #3B4455;\n",
              "    fill: #D2E3FC;\n",
              "  }\n",
              "\n",
              "  [theme=dark] .colab-df-quickchart:hover {\n",
              "    background-color: #434B5C;\n",
              "    box-shadow: 0px 1px 3px 1px rgba(0, 0, 0, 0.15);\n",
              "    filter: drop-shadow(0px 1px 2px rgba(0, 0, 0, 0.3));\n",
              "    fill: #FFFFFF;\n",
              "  }\n",
              "</style>\n",
              "\n",
              "    <script>\n",
              "      async function quickchart(key) {\n",
              "        const containerElement = document.querySelector('#' + key);\n",
              "        const charts = await google.colab.kernel.invokeFunction(\n",
              "            'suggestCharts', [key], {});\n",
              "      }\n",
              "    </script>\n",
              "\n",
              "      <script>\n",
              "\n",
              "function displayQuickchartButton(domScope) {\n",
              "  let quickchartButtonEl =\n",
              "    domScope.querySelector('#df-5b2baa0d-d3c3-473c-9c16-fe92fa930d92 button.colab-df-quickchart');\n",
              "  quickchartButtonEl.style.display =\n",
              "    google.colab.kernel.accessAllowed ? 'block' : 'none';\n",
              "}\n",
              "\n",
              "        displayQuickchartButton(document);\n",
              "      </script>\n",
              "      <style>\n",
              "    .colab-df-container {\n",
              "      display:flex;\n",
              "      flex-wrap:wrap;\n",
              "      gap: 12px;\n",
              "    }\n",
              "\n",
              "    .colab-df-convert {\n",
              "      background-color: #E8F0FE;\n",
              "      border: none;\n",
              "      border-radius: 50%;\n",
              "      cursor: pointer;\n",
              "      display: none;\n",
              "      fill: #1967D2;\n",
              "      height: 32px;\n",
              "      padding: 0 0 0 0;\n",
              "      width: 32px;\n",
              "    }\n",
              "\n",
              "    .colab-df-convert:hover {\n",
              "      background-color: #E2EBFA;\n",
              "      box-shadow: 0px 1px 2px rgba(60, 64, 67, 0.3), 0px 1px 3px 1px rgba(60, 64, 67, 0.15);\n",
              "      fill: #174EA6;\n",
              "    }\n",
              "\n",
              "    [theme=dark] .colab-df-convert {\n",
              "      background-color: #3B4455;\n",
              "      fill: #D2E3FC;\n",
              "    }\n",
              "\n",
              "    [theme=dark] .colab-df-convert:hover {\n",
              "      background-color: #434B5C;\n",
              "      box-shadow: 0px 1px 3px 1px rgba(0, 0, 0, 0.15);\n",
              "      filter: drop-shadow(0px 1px 2px rgba(0, 0, 0, 0.3));\n",
              "      fill: #FFFFFF;\n",
              "    }\n",
              "  </style>\n",
              "\n",
              "      <script>\n",
              "        const buttonEl =\n",
              "          document.querySelector('#df-625ebc6b-f29a-4b6e-a030-fc33dd782eb2 button.colab-df-convert');\n",
              "        buttonEl.style.display =\n",
              "          google.colab.kernel.accessAllowed ? 'block' : 'none';\n",
              "\n",
              "        async function convertToInteractive(key) {\n",
              "          const element = document.querySelector('#df-625ebc6b-f29a-4b6e-a030-fc33dd782eb2');\n",
              "          const dataTable =\n",
              "            await google.colab.kernel.invokeFunction('convertToInteractive',\n",
              "                                                     [key], {});\n",
              "          if (!dataTable) return;\n",
              "\n",
              "          const docLinkHtml = 'Like what you see? Visit the ' +\n",
              "            '<a target=\"_blank\" href=https://colab.research.google.com/notebooks/data_table.ipynb>data table notebook</a>'\n",
              "            + ' to learn more about interactive tables.';\n",
              "          element.innerHTML = '';\n",
              "          dataTable['output_type'] = 'display_data';\n",
              "          await google.colab.output.renderOutput(dataTable, element);\n",
              "          const docLink = document.createElement('div');\n",
              "          docLink.innerHTML = docLinkHtml;\n",
              "          element.appendChild(docLink);\n",
              "        }\n",
              "      </script>\n",
              "    </div>\n",
              "  </div>\n"
            ]
          },
          "metadata": {},
          "execution_count": 2
        }
      ]
    },
    {
      "cell_type": "code",
      "source": [
        "X = df1['text']\n",
        "Y = df1['language']\n",
        "X_train, X_test, Y_train, Y_test = train_test_split(X, Y, test_size=0.33, random_state=42)\n"
      ],
      "metadata": {
        "id": "A2h6fuV3Xr1U"
      },
      "execution_count": 3,
      "outputs": []
    },
    {
      "cell_type": "markdown",
      "source": [
        "DEPLOY COUNTVECTORIZER AND PIPELINE FUNCTIONS TO BUILD AND TRAIN MODELS FOR MULTINOMIAL_NB, BERNOULLI_NB & COMPLEMENT_NB MODELS"
      ],
      "metadata": {
        "id": "39sQqyz9zOfW"
      }
    },
    {
      "cell_type": "code",
      "source": [
        "count = CountVectorizer(analyzer = 'char',ngram_range=(2,4))\n",
        "\n",
        "pipeline_MultinomialNB = Pipeline([\n",
        "   ('vectorizer',count),\n",
        "   ('model',MultinomialNB())\n",
        "])\n",
        "pipeline_MultinomialNB.fit(X_train,Y_train)\n",
        "Y_pred = pipeline_MultinomialNB.predict(X_test)\n",
        "\n",
        "print(classification_report(Y_test,Y_pred))\n",
        "\n",
        "accuracy = accuracy_score(Y_test, Y_pred)\n",
        "print(\"Accuracy:\", accuracy)"
      ],
      "metadata": {
        "colab": {
          "base_uri": "https://localhost:8080/"
        },
        "id": "-yR614bJqMBA",
        "outputId": "b76d2456-2719-4c5a-9690-26f4a8cbb360"
      },
      "execution_count": 49,
      "outputs": [
        {
          "output_type": "stream",
          "name": "stdout",
          "text": [
            "              precision    recall  f1-score   support\n",
            "\n",
            "         ach       1.00      1.00      1.00      7826\n",
            "         eng       1.00      1.00      1.00      7783\n",
            "         lgg       1.00      1.00      1.00      8089\n",
            "         lug       1.00      1.00      1.00      7799\n",
            "         nyn       1.00      1.00      1.00      7967\n",
            "         teo       1.00      1.00      1.00      7952\n",
            "\n",
            "    accuracy                           1.00     47416\n",
            "   macro avg       1.00      1.00      1.00     47416\n",
            "weighted avg       1.00      1.00      1.00     47416\n",
            "\n",
            "Accuracy: 0.9988822338451155\n"
          ]
        }
      ]
    },
    {
      "cell_type": "markdown",
      "source": [
        "ACCURACY FOR MULTINOMIAL_NB IS 99.888% USING NGRAM_RANGE OF 2-4"
      ],
      "metadata": {
        "id": "03UpT1l0zret"
      }
    },
    {
      "cell_type": "code",
      "source": [
        "count = CountVectorizer(analyzer = 'char',ngram_range=(2,4))\n",
        "\n",
        "pipeline_BernoulliNB = Pipeline([\n",
        "   ('vectorizer',count),\n",
        "   ('model',BernoulliNB())\n",
        "])\n",
        "pipeline_BernoulliNB.fit(X_train,Y_train)\n",
        "Y_pred = pipeline_BernoulliNB.predict(X_test)\n",
        "\n",
        "print(classification_report(Y_test,Y_pred))\n",
        "\n",
        "accuracy = accuracy_score(Y_test, Y_pred)\n",
        "print(\"Accuracy:\", accuracy)"
      ],
      "metadata": {
        "id": "yCmOhoLNnVul",
        "colab": {
          "base_uri": "https://localhost:8080/"
        },
        "outputId": "2a966367-3ecb-42a1-f2ae-e986a0c79da4"
      },
      "execution_count": 52,
      "outputs": [
        {
          "output_type": "stream",
          "name": "stdout",
          "text": [
            "              precision    recall  f1-score   support\n",
            "\n",
            "         ach       1.00      1.00      1.00      7826\n",
            "         eng       1.00      1.00      1.00      7783\n",
            "         lgg       1.00      1.00      1.00      8089\n",
            "         lug       1.00      1.00      1.00      7799\n",
            "         nyn       1.00      1.00      1.00      7967\n",
            "         teo       1.00      1.00      1.00      7952\n",
            "\n",
            "    accuracy                           1.00     47416\n",
            "   macro avg       1.00      1.00      1.00     47416\n",
            "weighted avg       1.00      1.00      1.00     47416\n",
            "\n",
            "Accuracy: 0.9988611439176649\n"
          ]
        }
      ]
    },
    {
      "cell_type": "markdown",
      "source": [
        "ACCURACY FOR BERNOULLI_NB IS 99.886% USING NGRAM_RANGE OF 2-4"
      ],
      "metadata": {
        "id": "DKpSLmXw0GB8"
      }
    },
    {
      "cell_type": "code",
      "source": [
        "count = CountVectorizer(analyzer = 'char',ngram_range=(2,4))\n",
        "\n",
        "pipeline_ComplementNB = Pipeline([\n",
        "   ('vectorizer',count),\n",
        "   ('model',ComplementNB())\n",
        "])\n",
        "pipeline_ComplementNB.fit(X_train,Y_train)\n",
        "Y_pred = pipeline_ComplementNB.predict(X_test)\n",
        "\n",
        "print(classification_report(Y_test,Y_pred))\n",
        "\n",
        "accuracy = accuracy_score(Y_test, Y_pred)\n",
        "print(\"Accuracy:\", accuracy)"
      ],
      "metadata": {
        "colab": {
          "base_uri": "https://localhost:8080/"
        },
        "id": "h0P0O4u3tzr3",
        "outputId": "668a4cfc-578f-4488-fa06-9f54fdd26491"
      },
      "execution_count": 50,
      "outputs": [
        {
          "output_type": "stream",
          "name": "stdout",
          "text": [
            "              precision    recall  f1-score   support\n",
            "\n",
            "         ach       1.00      1.00      1.00      7826\n",
            "         eng       0.99      1.00      1.00      7783\n",
            "         lgg       1.00      1.00      1.00      8089\n",
            "         lug       1.00      1.00      1.00      7799\n",
            "         nyn       1.00      1.00      1.00      7967\n",
            "         teo       1.00      1.00      1.00      7952\n",
            "\n",
            "    accuracy                           1.00     47416\n",
            "   macro avg       1.00      1.00      1.00     47416\n",
            "weighted avg       1.00      1.00      1.00     47416\n",
            "\n",
            "Accuracy: 0.9977222878353299\n"
          ]
        }
      ]
    },
    {
      "cell_type": "markdown",
      "source": [
        "ACCURACY FOR COMPLEMENT_NB IS 99.772% USING NGRAM_RANGE OF 2-4"
      ],
      "metadata": {
        "id": "a8-rkM8D2c5X"
      }
    },
    {
      "cell_type": "code",
      "source": [
        "import joblib\n",
        "\n",
        "joblib.dump(pipeline_BernoulliNB ,'pipeline_BernoulliNB.pkl',compress = ('lzma',9))\n",
        "pipeline_BNB = joblib.load('pipeline_BernoulliNB.pkl')\n",
        "joblib.dump(pipeline_MultinomialNB ,'pipeline_MultinomialNB.pkl',compress = ('lzma',9))\n",
        "pipeline_MNB = joblib.load('pipeline_MultinomialNB.pkl')\n",
        "joblib.dump(pipeline_ComplementNB ,'pipeline_ComplementNB.pkl',compress = ('lzma',9))\n",
        "pipeline_CNB = joblib.load('pipeline_ComplementNB.pkl')\n"
      ],
      "metadata": {
        "id": "OH9dn_daNMNU"
      },
      "execution_count": 65,
      "outputs": []
    },
    {
      "cell_type": "markdown",
      "source": [
        "TEST MODELS ON SALT TEST DATASET"
      ],
      "metadata": {
        "id": "xkZe4vrhw4KZ"
      }
    },
    {
      "cell_type": "code",
      "source": [
        "df2 = pd.read_json(\"/content/drive/MyDrive/salt-test-v1.2.jsonl\", lines = True)\n",
        "df2.pop(\"tts-speech\")\n",
        "data1 = {\n",
        "    \"language\": [],\n",
        "    \"text\": []\n",
        "}\n",
        "for row in df2['text']:\n",
        "    for key, value in row.items():\n",
        "        data1[\"language\"].append(key)\n",
        "        data1[\"text\"].append(value)\n",
        "df3 = pd.DataFrame(data1,columns = ['language','text'])\n",
        "df3.head()\n"
      ],
      "metadata": {
        "id": "460kTugVoD18",
        "outputId": "450862a7-46e0-45e9-bc49-1bd976d34e01",
        "colab": {
          "base_uri": "https://localhost:8080/",
          "height": 206
        }
      },
      "execution_count": 16,
      "outputs": [
        {
          "output_type": "execute_result",
          "data": {
            "text/plain": [
              "  language                                               text\n",
              "0      eng  The fashion industry is starting to thrive again.\n",
              "1      lug      Ekisaawe ky'emisono kitandise okusituka nate.\n",
              "2      ach  Yub me cital ruk mapatpat manyen tye ka dongo ...\n",
              "3      teo            Ageutu ikampunin luka enape apolo bobo.\n",
              "4      lgg   Okalamvu suta o'diru 'diyini 'diyi 'ye e'do tutu"
            ],
            "text/html": [
              "\n",
              "\n",
              "  <div id=\"df-0c78de5b-1bb0-43c6-b01d-c694570ecefd\">\n",
              "    <div class=\"colab-df-container\">\n",
              "      <div>\n",
              "<style scoped>\n",
              "    .dataframe tbody tr th:only-of-type {\n",
              "        vertical-align: middle;\n",
              "    }\n",
              "\n",
              "    .dataframe tbody tr th {\n",
              "        vertical-align: top;\n",
              "    }\n",
              "\n",
              "    .dataframe thead th {\n",
              "        text-align: right;\n",
              "    }\n",
              "</style>\n",
              "<table border=\"1\" class=\"dataframe\">\n",
              "  <thead>\n",
              "    <tr style=\"text-align: right;\">\n",
              "      <th></th>\n",
              "      <th>language</th>\n",
              "      <th>text</th>\n",
              "    </tr>\n",
              "  </thead>\n",
              "  <tbody>\n",
              "    <tr>\n",
              "      <th>0</th>\n",
              "      <td>eng</td>\n",
              "      <td>The fashion industry is starting to thrive again.</td>\n",
              "    </tr>\n",
              "    <tr>\n",
              "      <th>1</th>\n",
              "      <td>lug</td>\n",
              "      <td>Ekisaawe ky'emisono kitandise okusituka nate.</td>\n",
              "    </tr>\n",
              "    <tr>\n",
              "      <th>2</th>\n",
              "      <td>ach</td>\n",
              "      <td>Yub me cital ruk mapatpat manyen tye ka dongo ...</td>\n",
              "    </tr>\n",
              "    <tr>\n",
              "      <th>3</th>\n",
              "      <td>teo</td>\n",
              "      <td>Ageutu ikampunin luka enape apolo bobo.</td>\n",
              "    </tr>\n",
              "    <tr>\n",
              "      <th>4</th>\n",
              "      <td>lgg</td>\n",
              "      <td>Okalamvu suta o'diru 'diyini 'diyi 'ye e'do tutu</td>\n",
              "    </tr>\n",
              "  </tbody>\n",
              "</table>\n",
              "</div>\n",
              "      <button class=\"colab-df-convert\" onclick=\"convertToInteractive('df-0c78de5b-1bb0-43c6-b01d-c694570ecefd')\"\n",
              "              title=\"Convert this dataframe to an interactive table.\"\n",
              "              style=\"display:none;\">\n",
              "\n",
              "  <svg xmlns=\"http://www.w3.org/2000/svg\" height=\"24px\"viewBox=\"0 0 24 24\"\n",
              "       width=\"24px\">\n",
              "    <path d=\"M0 0h24v24H0V0z\" fill=\"none\"/>\n",
              "    <path d=\"M18.56 5.44l.94 2.06.94-2.06 2.06-.94-2.06-.94-.94-2.06-.94 2.06-2.06.94zm-11 1L8.5 8.5l.94-2.06 2.06-.94-2.06-.94L8.5 2.5l-.94 2.06-2.06.94zm10 10l.94 2.06.94-2.06 2.06-.94-2.06-.94-.94-2.06-.94 2.06-2.06.94z\"/><path d=\"M17.41 7.96l-1.37-1.37c-.4-.4-.92-.59-1.43-.59-.52 0-1.04.2-1.43.59L10.3 9.45l-7.72 7.72c-.78.78-.78 2.05 0 2.83L4 21.41c.39.39.9.59 1.41.59.51 0 1.02-.2 1.41-.59l7.78-7.78 2.81-2.81c.8-.78.8-2.07 0-2.86zM5.41 20L4 18.59l7.72-7.72 1.47 1.35L5.41 20z\"/>\n",
              "  </svg>\n",
              "      </button>\n",
              "\n",
              "\n",
              "\n",
              "    <div id=\"df-f0a5c8a0-a0f7-47f1-ab95-76b3ef6dff38\">\n",
              "      <button class=\"colab-df-quickchart\" onclick=\"quickchart('df-f0a5c8a0-a0f7-47f1-ab95-76b3ef6dff38')\"\n",
              "              title=\"Suggest charts.\"\n",
              "              style=\"display:none;\">\n",
              "\n",
              "<svg xmlns=\"http://www.w3.org/2000/svg\" height=\"24px\"viewBox=\"0 0 24 24\"\n",
              "     width=\"24px\">\n",
              "    <g>\n",
              "        <path d=\"M19 3H5c-1.1 0-2 .9-2 2v14c0 1.1.9 2 2 2h14c1.1 0 2-.9 2-2V5c0-1.1-.9-2-2-2zM9 17H7v-7h2v7zm4 0h-2V7h2v10zm4 0h-2v-4h2v4z\"/>\n",
              "    </g>\n",
              "</svg>\n",
              "      </button>\n",
              "    </div>\n",
              "\n",
              "<style>\n",
              "  .colab-df-quickchart {\n",
              "    background-color: #E8F0FE;\n",
              "    border: none;\n",
              "    border-radius: 50%;\n",
              "    cursor: pointer;\n",
              "    display: none;\n",
              "    fill: #1967D2;\n",
              "    height: 32px;\n",
              "    padding: 0 0 0 0;\n",
              "    width: 32px;\n",
              "  }\n",
              "\n",
              "  .colab-df-quickchart:hover {\n",
              "    background-color: #E2EBFA;\n",
              "    box-shadow: 0px 1px 2px rgba(60, 64, 67, 0.3), 0px 1px 3px 1px rgba(60, 64, 67, 0.15);\n",
              "    fill: #174EA6;\n",
              "  }\n",
              "\n",
              "  [theme=dark] .colab-df-quickchart {\n",
              "    background-color: #3B4455;\n",
              "    fill: #D2E3FC;\n",
              "  }\n",
              "\n",
              "  [theme=dark] .colab-df-quickchart:hover {\n",
              "    background-color: #434B5C;\n",
              "    box-shadow: 0px 1px 3px 1px rgba(0, 0, 0, 0.15);\n",
              "    filter: drop-shadow(0px 1px 2px rgba(0, 0, 0, 0.3));\n",
              "    fill: #FFFFFF;\n",
              "  }\n",
              "</style>\n",
              "\n",
              "    <script>\n",
              "      async function quickchart(key) {\n",
              "        const containerElement = document.querySelector('#' + key);\n",
              "        const charts = await google.colab.kernel.invokeFunction(\n",
              "            'suggestCharts', [key], {});\n",
              "      }\n",
              "    </script>\n",
              "\n",
              "      <script>\n",
              "\n",
              "function displayQuickchartButton(domScope) {\n",
              "  let quickchartButtonEl =\n",
              "    domScope.querySelector('#df-f0a5c8a0-a0f7-47f1-ab95-76b3ef6dff38 button.colab-df-quickchart');\n",
              "  quickchartButtonEl.style.display =\n",
              "    google.colab.kernel.accessAllowed ? 'block' : 'none';\n",
              "}\n",
              "\n",
              "        displayQuickchartButton(document);\n",
              "      </script>\n",
              "      <style>\n",
              "    .colab-df-container {\n",
              "      display:flex;\n",
              "      flex-wrap:wrap;\n",
              "      gap: 12px;\n",
              "    }\n",
              "\n",
              "    .colab-df-convert {\n",
              "      background-color: #E8F0FE;\n",
              "      border: none;\n",
              "      border-radius: 50%;\n",
              "      cursor: pointer;\n",
              "      display: none;\n",
              "      fill: #1967D2;\n",
              "      height: 32px;\n",
              "      padding: 0 0 0 0;\n",
              "      width: 32px;\n",
              "    }\n",
              "\n",
              "    .colab-df-convert:hover {\n",
              "      background-color: #E2EBFA;\n",
              "      box-shadow: 0px 1px 2px rgba(60, 64, 67, 0.3), 0px 1px 3px 1px rgba(60, 64, 67, 0.15);\n",
              "      fill: #174EA6;\n",
              "    }\n",
              "\n",
              "    [theme=dark] .colab-df-convert {\n",
              "      background-color: #3B4455;\n",
              "      fill: #D2E3FC;\n",
              "    }\n",
              "\n",
              "    [theme=dark] .colab-df-convert:hover {\n",
              "      background-color: #434B5C;\n",
              "      box-shadow: 0px 1px 3px 1px rgba(0, 0, 0, 0.15);\n",
              "      filter: drop-shadow(0px 1px 2px rgba(0, 0, 0, 0.3));\n",
              "      fill: #FFFFFF;\n",
              "    }\n",
              "  </style>\n",
              "\n",
              "      <script>\n",
              "        const buttonEl =\n",
              "          document.querySelector('#df-0c78de5b-1bb0-43c6-b01d-c694570ecefd button.colab-df-convert');\n",
              "        buttonEl.style.display =\n",
              "          google.colab.kernel.accessAllowed ? 'block' : 'none';\n",
              "\n",
              "        async function convertToInteractive(key) {\n",
              "          const element = document.querySelector('#df-0c78de5b-1bb0-43c6-b01d-c694570ecefd');\n",
              "          const dataTable =\n",
              "            await google.colab.kernel.invokeFunction('convertToInteractive',\n",
              "                                                     [key], {});\n",
              "          if (!dataTable) return;\n",
              "\n",
              "          const docLinkHtml = 'Like what you see? Visit the ' +\n",
              "            '<a target=\"_blank\" href=https://colab.research.google.com/notebooks/data_table.ipynb>data table notebook</a>'\n",
              "            + ' to learn more about interactive tables.';\n",
              "          element.innerHTML = '';\n",
              "          dataTable['output_type'] = 'display_data';\n",
              "          await google.colab.output.renderOutput(dataTable, element);\n",
              "          const docLink = document.createElement('div');\n",
              "          docLink.innerHTML = docLinkHtml;\n",
              "          element.appendChild(docLink);\n",
              "        }\n",
              "      </script>\n",
              "    </div>\n",
              "  </div>\n"
            ]
          },
          "metadata": {},
          "execution_count": 16
        }
      ]
    },
    {
      "cell_type": "code",
      "source": [
        "X = df3['text']\n",
        "Y = df3['language']\n",
        "\n",
        "Y_pred = pipeline_MNB.predict(X)\n",
        "\n",
        "print(classification_report(Y,Y_pred))\n",
        "\n",
        "accuracy = accuracy_score(Y, Y_pred)\n",
        "print(\"Accuracy:\", accuracy)\n",
        "print(\"\\nConfusion Matrix:\")\n",
        "print(confusion_matrix(Y, Y_pred))"
      ],
      "metadata": {
        "id": "yJEF3iISoej8",
        "outputId": "c0900057-1ee9-4d15-8235-bc5d8ec70edb",
        "colab": {
          "base_uri": "https://localhost:8080/"
        }
      },
      "execution_count": 55,
      "outputs": [
        {
          "output_type": "stream",
          "name": "stdout",
          "text": [
            "              precision    recall  f1-score   support\n",
            "\n",
            "         ach       1.00      1.00      1.00       500\n",
            "         eng       1.00      1.00      1.00       500\n",
            "         lgg       1.00      1.00      1.00       500\n",
            "         lug       1.00      1.00      1.00       500\n",
            "         nyn       1.00      1.00      1.00       500\n",
            "         teo       1.00      1.00      1.00       500\n",
            "\n",
            "    accuracy                           1.00      3000\n",
            "   macro avg       1.00      1.00      1.00      3000\n",
            "weighted avg       1.00      1.00      1.00      3000\n",
            "\n",
            "Accuracy: 0.9986666666666667\n",
            "\n",
            "Confusion Matrix:\n",
            "[[498   0   1   1   0   0]\n",
            " [  0 500   0   0   0   0]\n",
            " [  0   1 499   0   0   0]\n",
            " [  0   0   0 500   0   0]\n",
            " [  0   0   0   1 499   0]\n",
            " [  0   0   0   0   0 500]]\n"
          ]
        }
      ]
    },
    {
      "cell_type": "markdown",
      "source": [
        "ACCURACY FOR MULTINOMIAL_NB IS 99.867%"
      ],
      "metadata": {
        "id": "znD_kcIZ3FE6"
      }
    },
    {
      "cell_type": "code",
      "source": [
        "Y_pred = pipeline_CNB.predict(X)\n",
        "\n",
        "print(classification_report(Y,Y_pred))\n",
        "\n",
        "accuracy = accuracy_score(Y, Y_pred)\n",
        "print(\"Accuracy:\", accuracy)\n",
        "print(\"\\nConfusion Matrix:\")\n",
        "print(confusion_matrix(Y, Y_pred))"
      ],
      "metadata": {
        "id": "wg9mVISFo0Cn",
        "outputId": "1d71bf8f-3c5c-4ebd-91da-8c4aa334820c",
        "colab": {
          "base_uri": "https://localhost:8080/"
        }
      },
      "execution_count": 56,
      "outputs": [
        {
          "output_type": "stream",
          "name": "stdout",
          "text": [
            "              precision    recall  f1-score   support\n",
            "\n",
            "         ach       1.00      1.00      1.00       500\n",
            "         eng       0.99      1.00      1.00       500\n",
            "         lgg       1.00      1.00      1.00       500\n",
            "         lug       1.00      1.00      1.00       500\n",
            "         nyn       1.00      1.00      1.00       500\n",
            "         teo       1.00      1.00      1.00       500\n",
            "\n",
            "    accuracy                           1.00      3000\n",
            "   macro avg       1.00      1.00      1.00      3000\n",
            "weighted avg       1.00      1.00      1.00      3000\n",
            "\n",
            "Accuracy: 0.9976666666666667\n",
            "\n",
            "Confusion Matrix:\n",
            "[[499   0   1   0   0   0]\n",
            " [  0 500   0   0   0   0]\n",
            " [  0   2 498   0   0   0]\n",
            " [  0   1   0 498   1   0]\n",
            " [  0   0   0   2 498   0]\n",
            " [  0   0   0   0   0 500]]\n"
          ]
        }
      ]
    },
    {
      "cell_type": "markdown",
      "source": [
        "ACCURACY FOR COMPLEMENT_NB IS 99.767%"
      ],
      "metadata": {
        "id": "fYFM_vvp3RnN"
      }
    },
    {
      "cell_type": "code",
      "source": [
        "Y_pred = pipeline_BNB.predict(X)\n",
        "\n",
        "print(classification_report(Y,Y_pred))\n",
        "\n",
        "accuracy = accuracy_score(Y, Y_pred)\n",
        "print(\"Accuracy:\", accuracy)\n",
        "print(\"\\nConfusion Matrix:\")\n",
        "print(confusion_matrix(Y, Y_pred))"
      ],
      "metadata": {
        "id": "ca2L5Ougsi9K",
        "outputId": "ac5b2b45-4dba-4335-bfce-442dec344e0f",
        "colab": {
          "base_uri": "https://localhost:8080/"
        }
      },
      "execution_count": 57,
      "outputs": [
        {
          "output_type": "stream",
          "name": "stdout",
          "text": [
            "              precision    recall  f1-score   support\n",
            "\n",
            "         ach       1.00      1.00      1.00       500\n",
            "         eng       1.00      1.00      1.00       500\n",
            "         lgg       1.00      1.00      1.00       500\n",
            "         lug       1.00      1.00      1.00       500\n",
            "         nyn       1.00      1.00      1.00       500\n",
            "         teo       1.00      1.00      1.00       500\n",
            "\n",
            "    accuracy                           1.00      3000\n",
            "   macro avg       1.00      1.00      1.00      3000\n",
            "weighted avg       1.00      1.00      1.00      3000\n",
            "\n",
            "Accuracy: 0.9986666666666667\n",
            "\n",
            "Confusion Matrix:\n",
            "[[499   0   1   0   0   0]\n",
            " [  0 500   0   0   0   0]\n",
            " [  0   1 499   0   0   0]\n",
            " [  0   0   0 500   0   0]\n",
            " [  0   0   0   2 498   0]\n",
            " [  0   0   0   0   0 500]]\n"
          ]
        }
      ]
    },
    {
      "cell_type": "markdown",
      "source": [
        "ACCURACY FOR BERNOULLI_NB IS 99.867%"
      ],
      "metadata": {
        "id": "YcP3xR3w3Yn6"
      }
    },
    {
      "cell_type": "markdown",
      "source": [
        "TESTED MODELS ON SAMPLES SENTENCES PROVIDED BY MR. ISAAC\n",
        "\n"
      ],
      "metadata": {
        "id": "iuXL9dAQphpn"
      }
    },
    {
      "cell_type": "code",
      "source": [
        "new_samples = ['I am going to the katale', # eng\n",
        "'Ngenda mu katale', # lug\n",
        "'Uganda', # any\n",
        "'Ekikopo', # lug or nyn\n",
        "'Runyankole', # nyn or lug\n",
        "'Omuntu', # nyn or lug\n",
        "\"Ebigambo by'amagezi\", # lug\n",
        "\"Bw'okoowa\", # lug\n",
        "\"yiga\", # lug\n",
        "\"kubivaako\", # lug\n",
        "\"Mulindeeko tujja kubayita\", # lug\n",
        "\"Gamba Mpurire\", # nyn\n",
        "\"Ekiro twaburayo kimwe kyonka tukajaguza embaga y'omwaka\", # nyn\n",
        "\"Tushangye\", # nyn\n",
        "\"Ekitongore ekya UWA kiriyo nikibangura abanyamakuru kuruga omukyanga ekya Kigezi ahakuhandiika amakuru agakwatiraine n’okurinda enyamaishwa z’omukishaka.\", # nyn\n",
        "\"itye nining\", # ach\n",
        "\"Irii maber, ladit?\", # ach\n",
        "\"Ibuto maber\", # ach\n",
        "\"Ibuto Gulu\", # ach,\n",
        "\"Amito tedo labolo kwon.\", # ach\n",
        "\"Ngo manyen?\", # ach\n",
        "\"Wacito I gang kwan nino ducu\", # ach\n",
        "\"Kumbedi abedo Anaka i Amuru aa ki California i Amerika ento.\" # ach\n",
        "]"
      ],
      "metadata": {
        "id": "sdl9Xu25YTDa"
      },
      "execution_count": 25,
      "outputs": []
    },
    {
      "cell_type": "markdown",
      "source": [
        "FOR THE MULTINOMIALNB MODEL"
      ],
      "metadata": {
        "id": "pzQRJYtTb4IU"
      }
    },
    {
      "cell_type": "code",
      "source": [
        "y_pred_new = pipeline_MNB.predict(new_samples)\n",
        "\n",
        "for sentence, language in zip(new_samples, y_pred_new):\n",
        "    print(f\"Text: '{sentence}' => Predicted Language: {language}\")"
      ],
      "metadata": {
        "colab": {
          "base_uri": "https://localhost:8080/"
        },
        "id": "IMxgi0H0b2d5",
        "outputId": "ee4057c2-0e69-4fc7-d1ce-64de4688c342"
      },
      "execution_count": 60,
      "outputs": [
        {
          "output_type": "stream",
          "name": "stdout",
          "text": [
            "Text: 'I am going to the katale' => Predicted Language: eng\n",
            "Text: 'Ngenda mu katale' => Predicted Language: lug\n",
            "Text: 'Uganda' => Predicted Language: lug\n",
            "Text: 'Ekikopo' => Predicted Language: teo\n",
            "Text: 'Runyankole' => Predicted Language: lug\n",
            "Text: 'Omuntu' => Predicted Language: nyn\n",
            "Text: 'Ebigambo by'amagezi' => Predicted Language: lug\n",
            "Text: 'Bw'okoowa' => Predicted Language: lug\n",
            "Text: 'yiga' => Predicted Language: lug\n",
            "Text: 'kubivaako' => Predicted Language: lug\n",
            "Text: 'Mulindeeko tujja kubayita' => Predicted Language: lug\n",
            "Text: 'Gamba Mpurire' => Predicted Language: nyn\n",
            "Text: 'Ekiro twaburayo kimwe kyonka tukajaguza embaga y'omwaka' => Predicted Language: nyn\n",
            "Text: 'Tushangye' => Predicted Language: nyn\n",
            "Text: 'Ekitongore ekya UWA kiriyo nikibangura abanyamakuru kuruga omukyanga ekya Kigezi ahakuhandiika amakuru agakwatiraine n’okurinda enyamaishwa z’omukishaka.' => Predicted Language: nyn\n",
            "Text: 'itye nining' => Predicted Language: ach\n",
            "Text: 'Irii maber, ladit?' => Predicted Language: ach\n",
            "Text: 'Ibuto maber' => Predicted Language: ach\n",
            "Text: 'Ibuto Gulu' => Predicted Language: ach\n",
            "Text: 'Amito tedo labolo kwon.' => Predicted Language: ach\n",
            "Text: 'Ngo manyen?' => Predicted Language: ach\n",
            "Text: 'Wacito I gang kwan nino ducu' => Predicted Language: ach\n",
            "Text: 'Kumbedi abedo Anaka i Amuru aa ki California i Amerika ento.' => Predicted Language: ach\n"
          ]
        }
      ]
    },
    {
      "cell_type": "markdown",
      "source": [
        "Failed to detect \"ekikopo\""
      ],
      "metadata": {
        "id": "GvK6ua523y-i"
      }
    },
    {
      "cell_type": "markdown",
      "source": [
        "FOR THE BERNOUILLINB MODEL"
      ],
      "metadata": {
        "id": "-BJA3WwpwHtq"
      }
    },
    {
      "cell_type": "code",
      "source": [
        "y_pred_new = pipeline_BNB.predict(new_samples)\n",
        "\n",
        "for sentence, language in zip(new_samples, y_pred_new):\n",
        "    print(f\"Text: '{sentence}' => Predicted Language: {language}\")"
      ],
      "metadata": {
        "colab": {
          "base_uri": "https://localhost:8080/"
        },
        "id": "Q0RxQqUib2Ov",
        "outputId": "ff2bd47d-06f3-446e-b02b-2fd47eff7e3d"
      },
      "execution_count": 61,
      "outputs": [
        {
          "output_type": "stream",
          "name": "stdout",
          "text": [
            "Text: 'I am going to the katale' => Predicted Language: eng\n",
            "Text: 'Ngenda mu katale' => Predicted Language: lug\n",
            "Text: 'Uganda' => Predicted Language: ach\n",
            "Text: 'Ekikopo' => Predicted Language: teo\n",
            "Text: 'Runyankole' => Predicted Language: lug\n",
            "Text: 'Omuntu' => Predicted Language: lug\n",
            "Text: 'Ebigambo by'amagezi' => Predicted Language: lug\n",
            "Text: 'Bw'okoowa' => Predicted Language: lug\n",
            "Text: 'yiga' => Predicted Language: ach\n",
            "Text: 'kubivaako' => Predicted Language: lug\n",
            "Text: 'Mulindeeko tujja kubayita' => Predicted Language: lug\n",
            "Text: 'Gamba Mpurire' => Predicted Language: nyn\n",
            "Text: 'Ekiro twaburayo kimwe kyonka tukajaguza embaga y'omwaka' => Predicted Language: nyn\n",
            "Text: 'Tushangye' => Predicted Language: nyn\n",
            "Text: 'Ekitongore ekya UWA kiriyo nikibangura abanyamakuru kuruga omukyanga ekya Kigezi ahakuhandiika amakuru agakwatiraine n’okurinda enyamaishwa z’omukishaka.' => Predicted Language: nyn\n",
            "Text: 'itye nining' => Predicted Language: ach\n",
            "Text: 'Irii maber, ladit?' => Predicted Language: ach\n",
            "Text: 'Ibuto maber' => Predicted Language: ach\n",
            "Text: 'Ibuto Gulu' => Predicted Language: ach\n",
            "Text: 'Amito tedo labolo kwon.' => Predicted Language: ach\n",
            "Text: 'Ngo manyen?' => Predicted Language: ach\n",
            "Text: 'Wacito I gang kwan nino ducu' => Predicted Language: ach\n",
            "Text: 'Kumbedi abedo Anaka i Amuru aa ki California i Amerika ento.' => Predicted Language: ach\n"
          ]
        }
      ]
    },
    {
      "cell_type": "markdown",
      "source": [
        "FAILED TO DETECTED \"EKIKOPO\" & \"YIGA\""
      ],
      "metadata": {
        "id": "qAD0v30F39Y6"
      }
    },
    {
      "cell_type": "code",
      "source": [
        "y_pred_new = pipeline_CNB.predict(new_samples)\n",
        "\n",
        "for sentence, language in zip(new_samples, y_pred_new):\n",
        "    print(f\"Text: '{sentence}' => Predicted Language: {language}\")"
      ],
      "metadata": {
        "colab": {
          "base_uri": "https://localhost:8080/"
        },
        "id": "GyJckH7_hwUk",
        "outputId": "eefa6fc5-1b7a-4b75-a7f5-81d368dae5a1"
      },
      "execution_count": 62,
      "outputs": [
        {
          "output_type": "stream",
          "name": "stdout",
          "text": [
            "Text: 'I am going to the katale' => Predicted Language: eng\n",
            "Text: 'Ngenda mu katale' => Predicted Language: lug\n",
            "Text: 'Uganda' => Predicted Language: nyn\n",
            "Text: 'Ekikopo' => Predicted Language: teo\n",
            "Text: 'Runyankole' => Predicted Language: lug\n",
            "Text: 'Omuntu' => Predicted Language: nyn\n",
            "Text: 'Ebigambo by'amagezi' => Predicted Language: lug\n",
            "Text: 'Bw'okoowa' => Predicted Language: lug\n",
            "Text: 'yiga' => Predicted Language: lug\n",
            "Text: 'kubivaako' => Predicted Language: lug\n",
            "Text: 'Mulindeeko tujja kubayita' => Predicted Language: lug\n",
            "Text: 'Gamba Mpurire' => Predicted Language: nyn\n",
            "Text: 'Ekiro twaburayo kimwe kyonka tukajaguza embaga y'omwaka' => Predicted Language: nyn\n",
            "Text: 'Tushangye' => Predicted Language: nyn\n",
            "Text: 'Ekitongore ekya UWA kiriyo nikibangura abanyamakuru kuruga omukyanga ekya Kigezi ahakuhandiika amakuru agakwatiraine n’okurinda enyamaishwa z’omukishaka.' => Predicted Language: nyn\n",
            "Text: 'itye nining' => Predicted Language: ach\n",
            "Text: 'Irii maber, ladit?' => Predicted Language: ach\n",
            "Text: 'Ibuto maber' => Predicted Language: ach\n",
            "Text: 'Ibuto Gulu' => Predicted Language: ach\n",
            "Text: 'Amito tedo labolo kwon.' => Predicted Language: ach\n",
            "Text: 'Ngo manyen?' => Predicted Language: ach\n",
            "Text: 'Wacito I gang kwan nino ducu' => Predicted Language: ach\n",
            "Text: 'Kumbedi abedo Anaka i Amuru aa ki California i Amerika ento.' => Predicted Language: ach\n"
          ]
        }
      ]
    },
    {
      "cell_type": "markdown",
      "source": [
        "Failed to detect \"ekikopo\""
      ],
      "metadata": {
        "id": "ec7FyptK4GDt"
      }
    }
  ]
}